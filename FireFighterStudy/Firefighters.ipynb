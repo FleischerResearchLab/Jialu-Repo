{
 "cells": [
  {
   "cell_type": "code",
   "execution_count": 1,
   "metadata": {},
   "outputs": [],
   "source": [
    "import pandas as pd\n",
    "import numpy as np\n",
    "import random\n",
    "import collections\n",
    "import statistics\n",
    "import matplotlib.pyplot as plt\n",
    "import seaborn as sns\n",
    "import operator   "
   ]
  },
  {
   "cell_type": "markdown",
   "metadata": {},
   "source": [
    "## import dataset"
   ]
  },
  {
   "cell_type": "code",
   "execution_count": 2,
   "metadata": {},
   "outputs": [],
   "source": [
    "df = pd.read_excel('Firefighter_food_time_HealthDataSet.xlsx')"
   ]
  },
  {
   "cell_type": "code",
   "execution_count": 3,
   "metadata": {},
   "outputs": [],
   "source": [
    "df['group'] = ['baseline' if x  <= 14 else 'intervention' for x in df['Day since beginning of participant enrollment']]"
   ]
  },
  {
   "cell_type": "code",
   "execution_count": 4,
   "metadata": {},
   "outputs": [
    {
     "data": {
      "text/plain": [
       "137"
      ]
     },
     "execution_count": 4,
     "metadata": {},
     "output_type": "execute_result"
    }
   ],
   "source": [
    "len(df['Participant ID'].unique())"
   ]
  },
  {
   "cell_type": "code",
   "execution_count": 5,
   "metadata": {},
   "outputs": [],
   "source": [
    "df=df[(df['Beverage(b)/Food(f)/Water(w)/medication(m)']=='f') | (df['Beverage(b)/Food(f)/Water(w)/medication(m)']=='b')]\n"
   ]
  },
  {
   "cell_type": "markdown",
   "metadata": {},
   "source": [
    "## Data Cleaning"
   ]
  },
  {
   "cell_type": "markdown",
   "metadata": {},
   "source": [
    "First, delete firefighter data with less than 10 days of entries since such data are not what we want to analyze"
   ]
  },
  {
   "cell_type": "code",
   "execution_count": 6,
   "metadata": {},
   "outputs": [],
   "source": [
    "par_to_drop = []\n",
    "for index, value in df['Participant ID'].value_counts().iteritems():\n",
    "\n",
    "    if value < 10:\n",
    "        par_to_drop.append(index)\n"
   ]
  },
  {
   "cell_type": "code",
   "execution_count": 7,
   "metadata": {},
   "outputs": [],
   "source": [
    "df_by_par = df.set_index('Participant ID')"
   ]
  },
  {
   "cell_type": "code",
   "execution_count": 8,
   "metadata": {},
   "outputs": [],
   "source": [
    "for par in par_to_drop:\n",
    "    df_by_par.drop(par,inplace=True)"
   ]
  },
  {
   "cell_type": "code",
   "execution_count": 9,
   "metadata": {},
   "outputs": [],
   "source": [
    "df = df_by_par.reset_index()"
   ]
  },
  {
   "cell_type": "code",
   "execution_count": null,
   "metadata": {},
   "outputs": [],
   "source": []
  },
  {
   "cell_type": "code",
   "execution_count": null,
   "metadata": {},
   "outputs": [],
   "source": []
  },
  {
   "cell_type": "markdown",
   "metadata": {},
   "source": [
    "## Revise column name"
   ]
  },
  {
   "cell_type": "code",
   "execution_count": 10,
   "metadata": {},
   "outputs": [],
   "source": [
    "df.rename({'Participant ID':'ParticipantID'}, axis='columns',inplace=True)\n",
    "df.rename({'Day since beginning of participant enrollment':'DayPassed'}, axis='columns',inplace=True)"
   ]
  },
  {
   "cell_type": "markdown",
   "metadata": {},
   "source": [
    "## Analysis"
   ]
  },
  {
   "cell_type": "code",
   "execution_count": 11,
   "metadata": {},
   "outputs": [],
   "source": [
    "# set index\n",
    "df_index = df.set_index(['ParticipantID','Date'])"
   ]
  },
  {
   "cell_type": "markdown",
   "metadata": {},
   "source": [
    "check whether everyone have  roughly 14 days of entries in baseline.\n",
    "\n",
    "check the maximum number of continuous days of records each participant has since the first day of baseline and intervention. This could provide some background information that could be useful for further analysis."
   ]
  },
  {
   "cell_type": "code",
   "execution_count": 12,
   "metadata": {},
   "outputs": [],
   "source": [
    "\n",
    "df_check = pd.DataFrame(df['ParticipantID'].unique())\n",
    "df_check.rename({0:'ParticipantID'}, axis='columns',inplace=True)"
   ]
  },
  {
   "cell_type": "code",
   "execution_count": 13,
   "metadata": {},
   "outputs": [
    {
     "data": {
      "text/html": [
       "<div>\n",
       "<style scoped>\n",
       "    .dataframe tbody tr th:only-of-type {\n",
       "        vertical-align: middle;\n",
       "    }\n",
       "\n",
       "    .dataframe tbody tr th {\n",
       "        vertical-align: top;\n",
       "    }\n",
       "\n",
       "    .dataframe thead th {\n",
       "        text-align: right;\n",
       "    }\n",
       "</style>\n",
       "<table border=\"1\" class=\"dataframe\">\n",
       "  <thead>\n",
       "    <tr style=\"text-align: right;\">\n",
       "      <th></th>\n",
       "      <th>ParticipantID</th>\n",
       "    </tr>\n",
       "  </thead>\n",
       "  <tbody>\n",
       "    <tr>\n",
       "      <th>0</th>\n",
       "      <td>9bbi18050005</td>\n",
       "    </tr>\n",
       "    <tr>\n",
       "      <th>1</th>\n",
       "      <td>9bbi18050009</td>\n",
       "    </tr>\n",
       "    <tr>\n",
       "      <th>2</th>\n",
       "      <td>9bbi18050011</td>\n",
       "    </tr>\n",
       "    <tr>\n",
       "      <th>3</th>\n",
       "      <td>9bbi18060012</td>\n",
       "    </tr>\n",
       "    <tr>\n",
       "      <th>4</th>\n",
       "      <td>9bbi18060013</td>\n",
       "    </tr>\n",
       "    <tr>\n",
       "      <th>...</th>\n",
       "      <td>...</td>\n",
       "    </tr>\n",
       "    <tr>\n",
       "      <th>131</th>\n",
       "      <td>9bbi19110168</td>\n",
       "    </tr>\n",
       "    <tr>\n",
       "      <th>132</th>\n",
       "      <td>9bbi19110169</td>\n",
       "    </tr>\n",
       "    <tr>\n",
       "      <th>133</th>\n",
       "      <td>9bbi19110171</td>\n",
       "    </tr>\n",
       "    <tr>\n",
       "      <th>134</th>\n",
       "      <td>9bbi19120173</td>\n",
       "    </tr>\n",
       "    <tr>\n",
       "      <th>135</th>\n",
       "      <td>9bbj18110064</td>\n",
       "    </tr>\n",
       "  </tbody>\n",
       "</table>\n",
       "<p>136 rows × 1 columns</p>\n",
       "</div>"
      ],
      "text/plain": [
       "    ParticipantID\n",
       "0    9bbi18050005\n",
       "1    9bbi18050009\n",
       "2    9bbi18050011\n",
       "3    9bbi18060012\n",
       "4    9bbi18060013\n",
       "..            ...\n",
       "131  9bbi19110168\n",
       "132  9bbi19110169\n",
       "133  9bbi19110171\n",
       "134  9bbi19120173\n",
       "135  9bbj18110064\n",
       "\n",
       "[136 rows x 1 columns]"
      ]
     },
     "execution_count": 13,
     "metadata": {},
     "output_type": "execute_result"
    }
   ],
   "source": [
    "df_check"
   ]
  },
  {
   "cell_type": "markdown",
   "metadata": {},
   "source": [
    "'BaselineCheck' contains boolean values, indicating whether the participants has at least 12 days of record during baseline. We do not choose the threshold of 14 days here since doing that would exclude too many participants in our study.\n",
    "\n",
    "'BaselineContinuous' and 'InterventionContinuous' contains numerical values, indicating how many continuous days of record each individual has since the start of baseline/intervention."
   ]
  },
  {
   "cell_type": "code",
   "execution_count": 14,
   "metadata": {},
   "outputs": [
    {
     "data": {
      "text/html": [
       "<div>\n",
       "<style scoped>\n",
       "    .dataframe tbody tr th:only-of-type {\n",
       "        vertical-align: middle;\n",
       "    }\n",
       "\n",
       "    .dataframe tbody tr th {\n",
       "        vertical-align: top;\n",
       "    }\n",
       "\n",
       "    .dataframe thead th {\n",
       "        text-align: right;\n",
       "    }\n",
       "</style>\n",
       "<table border=\"1\" class=\"dataframe\">\n",
       "  <thead>\n",
       "    <tr style=\"text-align: right;\">\n",
       "      <th></th>\n",
       "      <th>BaselineCheck</th>\n",
       "      <th>BaselineContinuous</th>\n",
       "      <th>InterventionContinuous</th>\n",
       "    </tr>\n",
       "    <tr>\n",
       "      <th>ParticipantID</th>\n",
       "      <th></th>\n",
       "      <th></th>\n",
       "      <th></th>\n",
       "    </tr>\n",
       "  </thead>\n",
       "  <tbody>\n",
       "    <tr>\n",
       "      <th>9bbi18050005</th>\n",
       "      <td>False</td>\n",
       "      <td>0</td>\n",
       "      <td>0</td>\n",
       "    </tr>\n",
       "    <tr>\n",
       "      <th>9bbi18050009</th>\n",
       "      <td>False</td>\n",
       "      <td>0</td>\n",
       "      <td>0</td>\n",
       "    </tr>\n",
       "    <tr>\n",
       "      <th>9bbi18050011</th>\n",
       "      <td>False</td>\n",
       "      <td>0</td>\n",
       "      <td>0</td>\n",
       "    </tr>\n",
       "    <tr>\n",
       "      <th>9bbi18060012</th>\n",
       "      <td>False</td>\n",
       "      <td>0</td>\n",
       "      <td>0</td>\n",
       "    </tr>\n",
       "    <tr>\n",
       "      <th>9bbi18060013</th>\n",
       "      <td>False</td>\n",
       "      <td>0</td>\n",
       "      <td>0</td>\n",
       "    </tr>\n",
       "    <tr>\n",
       "      <th>...</th>\n",
       "      <td>...</td>\n",
       "      <td>...</td>\n",
       "      <td>...</td>\n",
       "    </tr>\n",
       "    <tr>\n",
       "      <th>9bbi19110168</th>\n",
       "      <td>False</td>\n",
       "      <td>0</td>\n",
       "      <td>0</td>\n",
       "    </tr>\n",
       "    <tr>\n",
       "      <th>9bbi19110169</th>\n",
       "      <td>False</td>\n",
       "      <td>0</td>\n",
       "      <td>0</td>\n",
       "    </tr>\n",
       "    <tr>\n",
       "      <th>9bbi19110171</th>\n",
       "      <td>False</td>\n",
       "      <td>0</td>\n",
       "      <td>0</td>\n",
       "    </tr>\n",
       "    <tr>\n",
       "      <th>9bbi19120173</th>\n",
       "      <td>False</td>\n",
       "      <td>0</td>\n",
       "      <td>0</td>\n",
       "    </tr>\n",
       "    <tr>\n",
       "      <th>9bbj18110064</th>\n",
       "      <td>False</td>\n",
       "      <td>0</td>\n",
       "      <td>0</td>\n",
       "    </tr>\n",
       "  </tbody>\n",
       "</table>\n",
       "<p>136 rows × 3 columns</p>\n",
       "</div>"
      ],
      "text/plain": [
       "               BaselineCheck  BaselineContinuous  InterventionContinuous\n",
       "ParticipantID                                                           \n",
       "9bbi18050005           False                   0                       0\n",
       "9bbi18050009           False                   0                       0\n",
       "9bbi18050011           False                   0                       0\n",
       "9bbi18060012           False                   0                       0\n",
       "9bbi18060013           False                   0                       0\n",
       "...                      ...                 ...                     ...\n",
       "9bbi19110168           False                   0                       0\n",
       "9bbi19110169           False                   0                       0\n",
       "9bbi19110171           False                   0                       0\n",
       "9bbi19120173           False                   0                       0\n",
       "9bbj18110064           False                   0                       0\n",
       "\n",
       "[136 rows x 3 columns]"
      ]
     },
     "execution_count": 14,
     "metadata": {},
     "output_type": "execute_result"
    }
   ],
   "source": [
    "df_check['BaselineCheck'] = [False]*136\n",
    "df_check['BaselineContinuous'] = np.repeat(0,136)\n",
    "df_check['InterventionContinuous'] = np.repeat(0,136)\n",
    "df_check.set_index(['ParticipantID'])"
   ]
  },
  {
   "cell_type": "code",
   "execution_count": 15,
   "metadata": {},
   "outputs": [],
   "source": [
    "# check whether everyone has more than 12 days in baseline record\n",
    "arr = []\n",
    "for parID in df['ParticipantID'].unique():\n",
    "\n",
    "    length = len(df_index.query('ParticipantID == @parID and group == \"baseline\"')['DayPassed'].unique())\n",
    "    if length >= 12:\n",
    "        arr.append(True)\n",
    "    else:\n",
    "        arr.append(False)\n",
    "df_check['BaselineCheck'] = arr"
   ]
  },
  {
   "cell_type": "code",
   "execution_count": 16,
   "metadata": {},
   "outputs": [
    {
     "data": {
      "text/html": [
       "<div>\n",
       "<style scoped>\n",
       "    .dataframe tbody tr th:only-of-type {\n",
       "        vertical-align: middle;\n",
       "    }\n",
       "\n",
       "    .dataframe tbody tr th {\n",
       "        vertical-align: top;\n",
       "    }\n",
       "\n",
       "    .dataframe thead th {\n",
       "        text-align: right;\n",
       "    }\n",
       "</style>\n",
       "<table border=\"1\" class=\"dataframe\">\n",
       "  <thead>\n",
       "    <tr style=\"text-align: right;\">\n",
       "      <th></th>\n",
       "      <th>ParticipantID</th>\n",
       "      <th>BaselineCheck</th>\n",
       "      <th>BaselineContinuous</th>\n",
       "      <th>InterventionContinuous</th>\n",
       "    </tr>\n",
       "  </thead>\n",
       "  <tbody>\n",
       "    <tr>\n",
       "      <th>0</th>\n",
       "      <td>9bbi18050005</td>\n",
       "      <td>True</td>\n",
       "      <td>0</td>\n",
       "      <td>0</td>\n",
       "    </tr>\n",
       "    <tr>\n",
       "      <th>1</th>\n",
       "      <td>9bbi18050009</td>\n",
       "      <td>True</td>\n",
       "      <td>0</td>\n",
       "      <td>0</td>\n",
       "    </tr>\n",
       "    <tr>\n",
       "      <th>2</th>\n",
       "      <td>9bbi18050011</td>\n",
       "      <td>True</td>\n",
       "      <td>0</td>\n",
       "      <td>0</td>\n",
       "    </tr>\n",
       "    <tr>\n",
       "      <th>3</th>\n",
       "      <td>9bbi18060012</td>\n",
       "      <td>True</td>\n",
       "      <td>0</td>\n",
       "      <td>0</td>\n",
       "    </tr>\n",
       "    <tr>\n",
       "      <th>4</th>\n",
       "      <td>9bbi18060013</td>\n",
       "      <td>True</td>\n",
       "      <td>0</td>\n",
       "      <td>0</td>\n",
       "    </tr>\n",
       "    <tr>\n",
       "      <th>...</th>\n",
       "      <td>...</td>\n",
       "      <td>...</td>\n",
       "      <td>...</td>\n",
       "      <td>...</td>\n",
       "    </tr>\n",
       "    <tr>\n",
       "      <th>131</th>\n",
       "      <td>9bbi19110168</td>\n",
       "      <td>True</td>\n",
       "      <td>0</td>\n",
       "      <td>0</td>\n",
       "    </tr>\n",
       "    <tr>\n",
       "      <th>132</th>\n",
       "      <td>9bbi19110169</td>\n",
       "      <td>True</td>\n",
       "      <td>0</td>\n",
       "      <td>0</td>\n",
       "    </tr>\n",
       "    <tr>\n",
       "      <th>133</th>\n",
       "      <td>9bbi19110171</td>\n",
       "      <td>True</td>\n",
       "      <td>0</td>\n",
       "      <td>0</td>\n",
       "    </tr>\n",
       "    <tr>\n",
       "      <th>134</th>\n",
       "      <td>9bbi19120173</td>\n",
       "      <td>True</td>\n",
       "      <td>0</td>\n",
       "      <td>0</td>\n",
       "    </tr>\n",
       "    <tr>\n",
       "      <th>135</th>\n",
       "      <td>9bbj18110064</td>\n",
       "      <td>True</td>\n",
       "      <td>0</td>\n",
       "      <td>0</td>\n",
       "    </tr>\n",
       "  </tbody>\n",
       "</table>\n",
       "<p>136 rows × 4 columns</p>\n",
       "</div>"
      ],
      "text/plain": [
       "    ParticipantID  BaselineCheck  BaselineContinuous  InterventionContinuous\n",
       "0    9bbi18050005           True                   0                       0\n",
       "1    9bbi18050009           True                   0                       0\n",
       "2    9bbi18050011           True                   0                       0\n",
       "3    9bbi18060012           True                   0                       0\n",
       "4    9bbi18060013           True                   0                       0\n",
       "..            ...            ...                 ...                     ...\n",
       "131  9bbi19110168           True                   0                       0\n",
       "132  9bbi19110169           True                   0                       0\n",
       "133  9bbi19110171           True                   0                       0\n",
       "134  9bbi19120173           True                   0                       0\n",
       "135  9bbj18110064           True                   0                       0\n",
       "\n",
       "[136 rows x 4 columns]"
      ]
     },
     "execution_count": 16,
     "metadata": {},
     "output_type": "execute_result"
    }
   ],
   "source": [
    "df_check"
   ]
  },
  {
   "cell_type": "code",
   "execution_count": 17,
   "metadata": {},
   "outputs": [],
   "source": [
    "# check how many continuous days each have\n",
    "def check_continuous(l):\n",
    "    start = l[0]\n",
    "    count = 1\n",
    "    for day in l[1:]:\n",
    "        if day == start + 1:\n",
    "            count +=1\n",
    "            start = day\n",
    "        else: break\n",
    "    return count"
   ]
  },
  {
   "cell_type": "code",
   "execution_count": 18,
   "metadata": {},
   "outputs": [],
   "source": [
    "# check how many continuous days each have in baseline\n",
    "arr = []\n",
    "for parID in df['ParticipantID'].unique():\n",
    "\n",
    "    daylist = df_index.query('ParticipantID == @parID and group == \"baseline\"')['DayPassed'].unique()\n",
    "    count = check_continuous(daylist)\n",
    "    arr.append(count)\n",
    "df_check['BaselineContinuous'] = arr    "
   ]
  },
  {
   "cell_type": "code",
   "execution_count": 19,
   "metadata": {},
   "outputs": [],
   "source": [
    "# check how many continuous days each have in intervention\n",
    "arr = []\n",
    "for parID in df['ParticipantID'].unique():\n",
    "\n",
    "    daylist = df_index.query('ParticipantID == @parID and group == \"intervention\"')['DayPassed'].unique()\n",
    "    count = check_continuous(daylist)\n",
    "    arr.append(count)\n",
    "df_check['InterventionContinuous'] = arr    "
   ]
  },
  {
   "cell_type": "code",
   "execution_count": 20,
   "metadata": {},
   "outputs": [
    {
     "data": {
      "text/html": [
       "<div>\n",
       "<style scoped>\n",
       "    .dataframe tbody tr th:only-of-type {\n",
       "        vertical-align: middle;\n",
       "    }\n",
       "\n",
       "    .dataframe tbody tr th {\n",
       "        vertical-align: top;\n",
       "    }\n",
       "\n",
       "    .dataframe thead th {\n",
       "        text-align: right;\n",
       "    }\n",
       "</style>\n",
       "<table border=\"1\" class=\"dataframe\">\n",
       "  <thead>\n",
       "    <tr style=\"text-align: right;\">\n",
       "      <th></th>\n",
       "      <th>ParticipantID</th>\n",
       "      <th>BaselineCheck</th>\n",
       "      <th>BaselineContinuous</th>\n",
       "      <th>InterventionContinuous</th>\n",
       "    </tr>\n",
       "  </thead>\n",
       "  <tbody>\n",
       "    <tr>\n",
       "      <th>0</th>\n",
       "      <td>9bbi18050005</td>\n",
       "      <td>True</td>\n",
       "      <td>15</td>\n",
       "      <td>30</td>\n",
       "    </tr>\n",
       "    <tr>\n",
       "      <th>1</th>\n",
       "      <td>9bbi18050009</td>\n",
       "      <td>True</td>\n",
       "      <td>15</td>\n",
       "      <td>7</td>\n",
       "    </tr>\n",
       "    <tr>\n",
       "      <th>2</th>\n",
       "      <td>9bbi18050011</td>\n",
       "      <td>True</td>\n",
       "      <td>15</td>\n",
       "      <td>3</td>\n",
       "    </tr>\n",
       "    <tr>\n",
       "      <th>3</th>\n",
       "      <td>9bbi18060012</td>\n",
       "      <td>True</td>\n",
       "      <td>12</td>\n",
       "      <td>4</td>\n",
       "    </tr>\n",
       "    <tr>\n",
       "      <th>4</th>\n",
       "      <td>9bbi18060013</td>\n",
       "      <td>True</td>\n",
       "      <td>12</td>\n",
       "      <td>60</td>\n",
       "    </tr>\n",
       "    <tr>\n",
       "      <th>...</th>\n",
       "      <td>...</td>\n",
       "      <td>...</td>\n",
       "      <td>...</td>\n",
       "      <td>...</td>\n",
       "    </tr>\n",
       "    <tr>\n",
       "      <th>131</th>\n",
       "      <td>9bbi19110168</td>\n",
       "      <td>True</td>\n",
       "      <td>15</td>\n",
       "      <td>28</td>\n",
       "    </tr>\n",
       "    <tr>\n",
       "      <th>132</th>\n",
       "      <td>9bbi19110169</td>\n",
       "      <td>True</td>\n",
       "      <td>15</td>\n",
       "      <td>9</td>\n",
       "    </tr>\n",
       "    <tr>\n",
       "      <th>133</th>\n",
       "      <td>9bbi19110171</td>\n",
       "      <td>True</td>\n",
       "      <td>15</td>\n",
       "      <td>109</td>\n",
       "    </tr>\n",
       "    <tr>\n",
       "      <th>134</th>\n",
       "      <td>9bbi19120173</td>\n",
       "      <td>True</td>\n",
       "      <td>15</td>\n",
       "      <td>52</td>\n",
       "    </tr>\n",
       "    <tr>\n",
       "      <th>135</th>\n",
       "      <td>9bbj18110064</td>\n",
       "      <td>True</td>\n",
       "      <td>1</td>\n",
       "      <td>6</td>\n",
       "    </tr>\n",
       "  </tbody>\n",
       "</table>\n",
       "<p>136 rows × 4 columns</p>\n",
       "</div>"
      ],
      "text/plain": [
       "    ParticipantID  BaselineCheck  BaselineContinuous  InterventionContinuous\n",
       "0    9bbi18050005           True                  15                      30\n",
       "1    9bbi18050009           True                  15                       7\n",
       "2    9bbi18050011           True                  15                       3\n",
       "3    9bbi18060012           True                  12                       4\n",
       "4    9bbi18060013           True                  12                      60\n",
       "..            ...            ...                 ...                     ...\n",
       "131  9bbi19110168           True                  15                      28\n",
       "132  9bbi19110169           True                  15                       9\n",
       "133  9bbi19110171           True                  15                     109\n",
       "134  9bbi19120173           True                  15                      52\n",
       "135  9bbj18110064           True                   1                       6\n",
       "\n",
       "[136 rows x 4 columns]"
      ]
     },
     "execution_count": 20,
     "metadata": {},
     "output_type": "execute_result"
    }
   ],
   "source": [
    "df_check"
   ]
  },
  {
   "cell_type": "code",
   "execution_count": 21,
   "metadata": {},
   "outputs": [],
   "source": [
    "# drop participants whose Baseline Check is False (who has less than 12 days of record during baseline)\n",
    "par_drop = np.array(df_check.query('BaselineCheck == False')['ParticipantID'])\n",
    "df_index.reset_index(inplace=True)\n",
    "\n",
    "df_index.set_index(['ParticipantID'],inplace=True)\n",
    "for par in par_drop:\n",
    "    df_index.drop(par,inplace=True)\n",
    "df_index.reset_index(inplace=True)\n",
    "df_index.set_index(['ParticipantID','Date'],inplace=True)"
   ]
  },
  {
   "cell_type": "code",
   "execution_count": 22,
   "metadata": {},
   "outputs": [],
   "source": [
    "df_index.reset_index(inplace=True)\n",
    "all_date_base = df_index['Date'].unique()\n",
    "all_par_base = df_index['ParticipantID'].unique()\n",
    "df_index.set_index(['ParticipantID','Date'],inplace=True)"
   ]
  },
  {
   "cell_type": "code",
   "execution_count": 23,
   "metadata": {},
   "outputs": [],
   "source": [
    "all_date = df['Date'].unique()"
   ]
  },
  {
   "cell_type": "code",
   "execution_count": 24,
   "metadata": {},
   "outputs": [],
   "source": [
    "all_par = df['ParticipantID'].unique()"
   ]
  },
  {
   "cell_type": "markdown",
   "metadata": {},
   "source": [
    "Create several food dictionaries for future use. Each food dictionary has a double dictionary structure. For such a dictionary, keys are the unique ID of valid participants in the study. For each key, its corresponding value is another dictionary, with keys being the TimeStamp of the date that he or she made a record, and with values being the food items that he or she record during that day.\n",
    "\n",
    "food_dict is a food dictionary containing all participants and all days in this experiment. \n",
    "\n",
    "food_dict_base is a food dictionary containing all participants but only the days in baseline in this experiement."
   ]
  },
  {
   "cell_type": "code",
   "execution_count": 25,
   "metadata": {},
   "outputs": [],
   "source": [
    "#make food log a dictionary for all days in experiment\n",
    "\n",
    "food_dict= {}\n",
    "for par in all_par:\n",
    "    food_dict[par] = {}\n",
    "    \n",
    "    df_temp = df_index.query('ParticipantID == @par')\n",
    "    df_temp.reset_index(inplace=True)\n",
    "    dates = df_temp['Date'].unique()\n",
    "    for date in dates:\n",
    "        df_temp2 = df_temp.query('Date == @date')\n",
    "    \n",
    "        for index, value in df_temp2['Parsed food'].iteritems():\n",
    "            if date not in food_dict[par].keys():\n",
    "                food_dict[par][date] = [value]\n",
    "            else:\n",
    "                 food_dict[par][date].append(value)\n"
   ]
  },
  {
   "cell_type": "code",
   "execution_count": 26,
   "metadata": {},
   "outputs": [],
   "source": [
    "#make food log for baseline only (0-14 days)\n",
    "\n",
    "food_dict_base= {}\n",
    "for par in all_par_base:\n",
    "    food_dict_base[par] = {}\n",
    "    \n",
    "    df_temp = df_index.query('ParticipantID == @par and DayPassed <= 14')\n",
    "    df_temp.reset_index(inplace=True)\n",
    "    dates = df_temp['Date'].unique()\n",
    "    for date in dates:\n",
    "        df_temp2 = df_temp.query('Date == @date')\n",
    "    \n",
    "        for index, value in df_temp2['Parsed food'].iteritems():\n",
    "            if date not in food_dict_base[par].keys():\n",
    "                food_dict_base[par][date] = [value]\n",
    "            else:\n",
    "                 food_dict_base[par][date].append(value)"
   ]
  },
  {
   "cell_type": "markdown",
   "metadata": {},
   "source": [
    "## Data sampling methods"
   ]
  },
  {
   "cell_type": "code",
   "execution_count": 27,
   "metadata": {
    "scrolled": false
   },
   "outputs": [],
   "source": [
    "#random subsample \n",
    "# for each participant, randomly sample 1,3,7,10,14days (n days)\n",
    "\"\"\"\n",
    "Generate random sampling of n days for participant parID\n",
    "\n",
    "Parameter: \n",
    "----------\n",
    "ndays: number of days we want the random sampling to contain\n",
    "parID: the participant whom we want to sample data from\n",
    "\n",
    "Return:\n",
    "---------\n",
    "food_par: an array containing food items that we sampled\n",
    "\n",
    "\"\"\"\n",
    "def random_sample(ndays,parID):\n",
    "    food_dict_par = food_dict_base[parID]\n",
    "    keys = food_dict_par.keys()\n",
    "    if len(keys) >= ndays:\n",
    "        days_sampled = random.sample(keys, ndays) \n",
    "        food_par = []\n",
    "        for day in days_sampled:\n",
    "            food_par += food_dict_par[day]\n",
    "        return food_par\n",
    "    else:\n",
    "        #return false if the participant do not have enough data\n",
    "        return False\n",
    "    "
   ]
  },
  {
   "cell_type": "code",
   "execution_count": 28,
   "metadata": {},
   "outputs": [],
   "source": [
    "# for each participant, sample consecutively n days\n",
    "\"\"\"\n",
    "Generate random consecutive sampling of n days for participant parID\n",
    "\n",
    "Parameter: \n",
    "----------\n",
    "ndays: number of days we want the random consecutive sampling to contain\n",
    "parID: the participant whom we want to sample data from\n",
    "\n",
    "Return:\n",
    "---------\n",
    "food_par: an array containing food items that we sampled\n",
    "\n",
    "\"\"\"\n",
    "def consecutive_sample(ndays,parID):\n",
    "    food_dict_par = food_dict_base[parID]\n",
    "    keys = list(food_dict_par.keys())\n",
    "\n",
    "    if len(keys) >= ndays:\n",
    "        start = random.choice(range(0,len(keys)-ndays+1))\n",
    "        food_par = []\n",
    "        for i in range(ndays):\n",
    "            food_par += food_dict_par[keys[start]]\n",
    "            start+=1\n",
    "        return food_par\n",
    "    else:\n",
    "         #return false if the participant do not have enough data\n",
    "        return False"
   ]
  },
  {
   "cell_type": "code",
   "execution_count": 29,
   "metadata": {},
   "outputs": [],
   "source": [
    "# calculate overlap score of 2 food lists\n",
    "def cal_overlap(l1,l2):\n",
    "    n_overlap = 0\n",
    "    for item in l1:\n",
    "        if item in l2:\n",
    "            n_overlap +=1\n",
    "    return n_overlap/len(l2)\n",
    "    "
   ]
  },
  {
   "cell_type": "code",
   "execution_count": null,
   "metadata": {},
   "outputs": [],
   "source": []
  },
  {
   "cell_type": "code",
   "execution_count": 30,
   "metadata": {},
   "outputs": [],
   "source": [
    "# calculate overlap score of n_days sampling vs baseline (0-14). In such comparison, we regard the baseline as the ground truth.\n",
    "\"\"\"\n",
    "calculate overlap score of the most k frequent food items of the n_days sampling within the baseline and that of the entire baseline (0-14day) \n",
    "\n",
    "Parameter: \n",
    "----------\n",
    "ndays: number of days we want the sampling to contain\n",
    "parID: the participant whom we want to sample data from\n",
    "typed: the type of sampling we want to uses ('random' or 'consecutive')\n",
    "k: number of most frequent food items we want to compare\n",
    "\n",
    "Return:\n",
    "---------\n",
    "return the mean of the overlap scores of the participant throughout 1000 iterations\n",
    "\n",
    "\"\"\"\n",
    "def get_random_sample(n_days,parID,typed,k):\n",
    "   \n",
    "    par_food = []\n",
    "    for key,value in  food_dict_base[parID].items():\n",
    "        par_food += value\n",
    "    index = 0\n",
    "    top_k_all = []\n",
    "    frequency_all = dict(collections.Counter(par_food))\n",
    "    \n",
    "    freq_all = sorted(frequency_all.items(), key=lambda kv: kv[1],reverse=True)\n",
    "    \n",
    "\n",
    "    for item,freq in freq_all:\n",
    "        if index < k:\n",
    "            top_k_all.append(item)\n",
    "            index+=1\n",
    "        else:\n",
    "            break\n",
    "    overlap = []\n",
    "    \n",
    "    #repeat for 1000 times to minimize the influence of outlier\n",
    "    for i in range(1000):\n",
    "        if typed == 'random':\n",
    "            food_par = random_sample(n_days,parID)\n",
    "        if typed == 'consecutive':\n",
    "            food_par = consecutive_sample(n_days,parID)        \n",
    "  \n",
    "        frequency = dict(collections.Counter(food_par))\n",
    "    \n",
    "        freq = sorted(frequency.items(), key=lambda kv: kv[1],reverse=True)\n",
    "        \n",
    "        index = 0\n",
    "        sample_k = []\n",
    "        for item,freq in freq:\n",
    "            if index < k:\n",
    "                sample_k.append(item)\n",
    "                index+=1\n",
    "            else:\n",
    "                break\n",
    "        \n",
    "        \n",
    "        percent_overlap = cal_overlap(sample_k,top_k_all)\n",
    "        overlap.append(percent_overlap)\n",
    "\n",
    "    return statistics.mean(overlap)"
   ]
  },
  {
   "cell_type": "code",
   "execution_count": 31,
   "metadata": {},
   "outputs": [],
   "source": [
    "\n",
    "\"\"\"\n",
    "Calculte overlap scores of the results from 2 sampling methods\n",
    "\n",
    "Parameter: \n",
    "----------\n",
    "day: number of days to sample as the \"ground truth\"\n",
    "par: number of days to sample as comparison\n",
    "parID: the participant whom we want to sample data from\n",
    "typed: the type of sampling we want to uses ('random' or 'consecutive')\n",
    "k: number of most frequent food items we want to compare\n",
    "\n",
    "Return:\n",
    "---------\n",
    "return the overlap score of results from 2 sampling methods\n",
    "\n",
    "\"\"\"\n",
    "def compare_subsample(day,pair,typed,parID,k):\n",
    "        #k_dict={1:3,3:4,7:5,10:7,14:10}\n",
    "        if typed == 'random':\n",
    "            food_par1 = random_sample(day,parID)\n",
    "            food_par2 = random_sample(pair,parID)\n",
    "        if typed == 'consecutive':\n",
    "            food_par1 = consecutive_sample(day,parID)\n",
    "            food_par2 = consecutive_sample(pair,parID)\n",
    "\n",
    "            \n",
    "        # using Counter to find frequency of elements\n",
    "        frequency1 = dict(collections.Counter(food_par1))\n",
    "        frequency2 = dict(collections.Counter(food_par2))\n",
    "\n",
    "\n",
    "\n",
    "        freq1 = sorted(frequency1.items(), key=lambda kv: kv[1],reverse=True)\n",
    "        freq2 = sorted(frequency2.items(), key=lambda kv: kv[1],reverse=True)\n",
    "\n",
    "        # get the most k frequent food items from sample1\n",
    "        index = 0\n",
    "        sample_k1 = []\n",
    "        for item,freq in freq1:\n",
    "            if index < k:\n",
    "                sample_k1.append(item)\n",
    "                index+=1\n",
    "            else:\n",
    "                break\n",
    "        \n",
    "        # get the most k frequent items from sample2\n",
    "        index = 0\n",
    "        sample_k2 = []\n",
    "        for item,freq in freq2:\n",
    "            if index < k:\n",
    "                sample_k2.append(item)\n",
    "                index+=1\n",
    "            else:\n",
    "                break\n",
    "        \n",
    "\n",
    "\n",
    "        percent_overlap = cal_overlap(sample_k1,sample_k2)\n",
    "        return percent_overlap\n",
    "\n"
   ]
  },
  {
   "cell_type": "code",
   "execution_count": null,
   "metadata": {},
   "outputs": [],
   "source": []
  },
  {
   "cell_type": "code",
   "execution_count": 32,
   "metadata": {},
   "outputs": [],
   "source": [
    "\n",
    "\"\"\"\n",
    "Monte-Carlo way to compare different sampling methods. Here we take each sampling method as ground truth iteratively, \n",
    "and compare its performance with other methods. For the sampling part, we draw samples within the baseline.\n",
    "\n",
    "Parameter: \n",
    "----------\n",
    "typed: the type of sampling we want to uses ('random' or 'consecutive')\n",
    "k: number of most frequent food items we want to compare\n",
    "\n",
    "Return:\n",
    "---------\n",
    "final_result: 2d array of size 4*4 containing averaged overlap scores over the 1000 iterations of the comparisons, with row index and column index indicating different sampling methods\n",
    "final_overlap: 3d array of size 4*4*1000 containing raw overlap scores of the comparisons.\n",
    "For these 2 matrices, we only fill out the upper triangle part\n",
    "\"\"\"\n",
    "def calculate_overlap(typed,k):\n",
    "   \n",
    "    day_dict={1:0,3:1,7:2,10:3,14:4}\n",
    "    \n",
    "    total_result = []\n",
    "    total_overlap = []\n",
    "\n",
    "    days = [1,3,7,10]\n",
    "    for parID in list(food_dict_base.keys()):\n",
    "        \n",
    "        overlap_arr = []\n",
    "        line = []\n",
    "        for i in range (0, 4):\n",
    "            for j in range(0,4):\n",
    "                line.append(np.zeros(1000))\n",
    "            overlap_arr.append(np.copy(line))\n",
    "            line = []\n",
    "\n",
    "            \n",
    "        result = np.zeros((4,4))\n",
    "        \n",
    "        # compare with other sampline methods\n",
    "        for day in days:\n",
    "            pairs = [x for x in days if x != day and x>day]\n",
    "            for pair in pairs:\n",
    "                overlap = [] #contains 1000 percentages\n",
    "                for i in range(1000):\n",
    "                     \n",
    "                    overlap.append(compare_subsample(day,pair,typed,parID,k))\n",
    "                overlap_result = statistics.mean(overlap)\n",
    "                \n",
    "                \n",
    "                result[day_dict[day],day_dict[pair]] = overlap_result\n",
    "                overlap_arr[day_dict[day]][day_dict[pair]] = np.array(np.copy(overlap))\n",
    "        \n",
    "        total_result.append(np.copy(result))\n",
    "        total_overlap.append(np.copy(overlap_arr))\n",
    "   \n",
    "        \n",
    "        \n",
    "    final_result = np.asarray(total_result).mean(axis = 0)\n",
    "    final_overlap = np.asarray(total_overlap).mean(axis=0)\n",
    "            \n",
    "                \n",
    "    return final_result,final_overlap\n",
    "   "
   ]
  },
  {
   "cell_type": "code",
   "execution_count": 33,
   "metadata": {},
   "outputs": [],
   "source": [
    "result,overlap_arr = calculate_overlap('random',4)"
   ]
  },
  {
   "cell_type": "code",
   "execution_count": 34,
   "metadata": {},
   "outputs": [],
   "source": [
    "result1,overlap_arr1 = calculate_overlap('random',10)"
   ]
  },
  {
   "cell_type": "code",
   "execution_count": 35,
   "metadata": {},
   "outputs": [],
   "source": [
    "result2,overlap_arr = calculate_overlap('random',6)"
   ]
  },
  {
   "cell_type": "code",
   "execution_count": 36,
   "metadata": {},
   "outputs": [
    {
     "data": {
      "text/plain": [
       "array([[0.        , 0.18958656, 0.2207668 , 0.22998643],\n",
       "       [0.        , 0.        , 0.40566537, 0.43144574],\n",
       "       [0.        , 0.        , 0.        , 0.60882171],\n",
       "       [0.        , 0.        , 0.        , 0.        ]])"
      ]
     },
     "execution_count": 36,
     "metadata": {},
     "output_type": "execute_result"
    }
   ],
   "source": [
    "result #k=4 "
   ]
  },
  {
   "cell_type": "code",
   "execution_count": 37,
   "metadata": {},
   "outputs": [
    {
     "data": {
      "text/plain": [
       "array([[0.        , 0.20607106, 0.24366641, 0.25612016],\n",
       "       [0.        , 0.        , 0.39531537, 0.42169251],\n",
       "       [0.        , 0.        , 0.        , 0.60015633],\n",
       "       [0.        , 0.        , 0.        , 0.        ]])"
      ]
     },
     "execution_count": 37,
     "metadata": {},
     "output_type": "execute_result"
    }
   ],
   "source": [
    "result2 # k=6"
   ]
  },
  {
   "cell_type": "code",
   "execution_count": 38,
   "metadata": {},
   "outputs": [
    {
     "data": {
      "text/plain": [
       "array([[0.        , 0.21588216, 0.2571821 , 0.27358052],\n",
       "       [0.        , 0.        , 0.39276484, 0.41952743],\n",
       "       [0.        , 0.        , 0.        , 0.58955361],\n",
       "       [0.        , 0.        , 0.        , 0.        ]])"
      ]
     },
     "execution_count": 38,
     "metadata": {},
     "output_type": "execute_result"
    }
   ],
   "source": [
    "result1 #k=10"
   ]
  },
  {
   "cell_type": "code",
   "execution_count": null,
   "metadata": {},
   "outputs": [],
   "source": []
  },
  {
   "cell_type": "code",
   "execution_count": 74,
   "metadata": {},
   "outputs": [
    {
     "data": {
      "text/plain": [
       "[Text(0, 0.5, '1'), Text(0, 1.5, '3'), Text(0, 2.5, '7'), Text(0, 3.5, '10')]"
      ]
     },
     "execution_count": 74,
     "metadata": {},
     "output_type": "execute_result"
    },
    {
     "data": {
      "image/png": "[encoded data removed]",
      "text/plain": [
       "<Figure size 432x288 with 2 Axes>"
      ]
     },
     "metadata": {
      "needs_background": "light"
     },
     "output_type": "display_data"
    }
   ],
   "source": [
    "# plot heatmap for monte-carlo comparison\n",
    "ax = sns.heatmap(result)\n",
    "ax.set_xticklabels([1,3,7,10])\n",
    "ax.set_yticklabels([1,3,7,10])"
   ]
  },
  {
   "cell_type": "code",
   "execution_count": 40,
   "metadata": {},
   "outputs": [
    {
     "name": "stderr",
     "output_type": "stream",
     "text": [
      "/Users/suijialu/opt/anaconda3/lib/python3.7/site-packages/numpy/lib/nanfunctions.py:995: RuntimeWarning: All-NaN slice encountered\n",
      "  result = np.apply_along_axis(_nanmedian1d, axis, a, overwrite_input)\n"
     ]
    },
    {
     "data": {
      "text/html": [
       "<div>\n",
       "<style scoped>\n",
       "    .dataframe tbody tr th:only-of-type {\n",
       "        vertical-align: middle;\n",
       "    }\n",
       "\n",
       "    .dataframe tbody tr th {\n",
       "        vertical-align: top;\n",
       "    }\n",
       "\n",
       "    .dataframe thead th {\n",
       "        text-align: right;\n",
       "    }\n",
       "</style>\n",
       "<table border=\"1\" class=\"dataframe\">\n",
       "  <thead>\n",
       "    <tr style=\"text-align: right;\">\n",
       "      <th></th>\n",
       "      <th>1</th>\n",
       "      <th>2</th>\n",
       "      <th>3</th>\n",
       "      <th>4</th>\n",
       "      <th>5</th>\n",
       "      <th>6</th>\n",
       "      <th>7</th>\n",
       "      <th>8</th>\n",
       "      <th>9</th>\n",
       "      <th>10</th>\n",
       "      <th>...</th>\n",
       "      <th>994</th>\n",
       "      <th>995</th>\n",
       "      <th>996</th>\n",
       "      <th>997</th>\n",
       "      <th>998</th>\n",
       "      <th>999</th>\n",
       "      <th>1000</th>\n",
       "      <th>mean</th>\n",
       "      <th>median</th>\n",
       "      <th>std</th>\n",
       "    </tr>\n",
       "    <tr>\n",
       "      <th>comparison</th>\n",
       "      <th></th>\n",
       "      <th></th>\n",
       "      <th></th>\n",
       "      <th></th>\n",
       "      <th></th>\n",
       "      <th></th>\n",
       "      <th></th>\n",
       "      <th></th>\n",
       "      <th></th>\n",
       "      <th></th>\n",
       "      <th></th>\n",
       "      <th></th>\n",
       "      <th></th>\n",
       "      <th></th>\n",
       "      <th></th>\n",
       "      <th></th>\n",
       "      <th></th>\n",
       "      <th></th>\n",
       "      <th></th>\n",
       "      <th></th>\n",
       "      <th></th>\n",
       "    </tr>\n",
       "  </thead>\n",
       "  <tbody>\n",
       "    <tr>\n",
       "      <th>1v3</th>\n",
       "      <td>0.191214</td>\n",
       "      <td>0.226098</td>\n",
       "      <td>0.195866</td>\n",
       "      <td>0.222997</td>\n",
       "      <td>0.197028</td>\n",
       "      <td>0.213824</td>\n",
       "      <td>0.20801</td>\n",
       "      <td>0.214729</td>\n",
       "      <td>0.196382</td>\n",
       "      <td>0.200775</td>\n",
       "      <td>...</td>\n",
       "      <td>0.212532</td>\n",
       "      <td>0.197674</td>\n",
       "      <td>0.213178</td>\n",
       "      <td>0.197158</td>\n",
       "      <td>0.23385</td>\n",
       "      <td>0.181525</td>\n",
       "      <td>0.209302</td>\n",
       "      <td>0.206071</td>\n",
       "      <td>0.206460</td>\n",
       "      <td>0.017163</td>\n",
       "    </tr>\n",
       "    <tr>\n",
       "      <th>1v7</th>\n",
       "      <td>0.219638</td>\n",
       "      <td>0.244186</td>\n",
       "      <td>0.25323</td>\n",
       "      <td>0.223514</td>\n",
       "      <td>0.250646</td>\n",
       "      <td>0.254522</td>\n",
       "      <td>0.263566</td>\n",
       "      <td>0.23385</td>\n",
       "      <td>0.248062</td>\n",
       "      <td>0.241602</td>\n",
       "      <td>...</td>\n",
       "      <td>0.236434</td>\n",
       "      <td>0.222222</td>\n",
       "      <td>0.271318</td>\n",
       "      <td>0.249354</td>\n",
       "      <td>0.22739</td>\n",
       "      <td>0.2677</td>\n",
       "      <td>0.239018</td>\n",
       "      <td>0.243666</td>\n",
       "      <td>0.242894</td>\n",
       "      <td>0.015202</td>\n",
       "    </tr>\n",
       "    <tr>\n",
       "      <th>1v10</th>\n",
       "      <td>0.242894</td>\n",
       "      <td>0.237726</td>\n",
       "      <td>0.258398</td>\n",
       "      <td>0.275194</td>\n",
       "      <td>0.293282</td>\n",
       "      <td>0.254522</td>\n",
       "      <td>0.264858</td>\n",
       "      <td>0.244186</td>\n",
       "      <td>0.236434</td>\n",
       "      <td>0.24677</td>\n",
       "      <td>...</td>\n",
       "      <td>0.258398</td>\n",
       "      <td>0.248062</td>\n",
       "      <td>0.198966</td>\n",
       "      <td>0.239018</td>\n",
       "      <td>0.264858</td>\n",
       "      <td>0.248062</td>\n",
       "      <td>0.23385</td>\n",
       "      <td>0.256120</td>\n",
       "      <td>0.255814</td>\n",
       "      <td>0.015246</td>\n",
       "    </tr>\n",
       "    <tr>\n",
       "      <th>1v14</th>\n",
       "      <td>NaN</td>\n",
       "      <td>NaN</td>\n",
       "      <td>NaN</td>\n",
       "      <td>NaN</td>\n",
       "      <td>NaN</td>\n",
       "      <td>NaN</td>\n",
       "      <td>NaN</td>\n",
       "      <td>NaN</td>\n",
       "      <td>NaN</td>\n",
       "      <td>NaN</td>\n",
       "      <td>...</td>\n",
       "      <td>NaN</td>\n",
       "      <td>NaN</td>\n",
       "      <td>NaN</td>\n",
       "      <td>NaN</td>\n",
       "      <td>NaN</td>\n",
       "      <td>NaN</td>\n",
       "      <td>NaN</td>\n",
       "      <td>NaN</td>\n",
       "      <td>NaN</td>\n",
       "      <td>NaN</td>\n",
       "    </tr>\n",
       "    <tr>\n",
       "      <th>3v7</th>\n",
       "      <td>0.381137</td>\n",
       "      <td>0.414729</td>\n",
       "      <td>0.388889</td>\n",
       "      <td>0.401809</td>\n",
       "      <td>0.416021</td>\n",
       "      <td>0.386305</td>\n",
       "      <td>0.418605</td>\n",
       "      <td>0.388889</td>\n",
       "      <td>0.379845</td>\n",
       "      <td>0.403101</td>\n",
       "      <td>...</td>\n",
       "      <td>0.400517</td>\n",
       "      <td>0.396641</td>\n",
       "      <td>0.401809</td>\n",
       "      <td>0.390181</td>\n",
       "      <td>0.409561</td>\n",
       "      <td>0.396641</td>\n",
       "      <td>0.394057</td>\n",
       "      <td>0.395315</td>\n",
       "      <td>0.395349</td>\n",
       "      <td>0.015361</td>\n",
       "    </tr>\n",
       "    <tr>\n",
       "      <th>3v10</th>\n",
       "      <td>0.422481</td>\n",
       "      <td>0.428941</td>\n",
       "      <td>0.414729</td>\n",
       "      <td>0.410853</td>\n",
       "      <td>0.431525</td>\n",
       "      <td>0.428941</td>\n",
       "      <td>0.425065</td>\n",
       "      <td>0.432817</td>\n",
       "      <td>0.449612</td>\n",
       "      <td>0.409561</td>\n",
       "      <td>...</td>\n",
       "      <td>0.443152</td>\n",
       "      <td>0.418605</td>\n",
       "      <td>0.412145</td>\n",
       "      <td>0.435401</td>\n",
       "      <td>0.416021</td>\n",
       "      <td>0.413437</td>\n",
       "      <td>0.401809</td>\n",
       "      <td>0.421693</td>\n",
       "      <td>0.421189</td>\n",
       "      <td>0.015419</td>\n",
       "    </tr>\n",
       "    <tr>\n",
       "      <th>3v14</th>\n",
       "      <td>NaN</td>\n",
       "      <td>NaN</td>\n",
       "      <td>NaN</td>\n",
       "      <td>NaN</td>\n",
       "      <td>NaN</td>\n",
       "      <td>NaN</td>\n",
       "      <td>NaN</td>\n",
       "      <td>NaN</td>\n",
       "      <td>NaN</td>\n",
       "      <td>NaN</td>\n",
       "      <td>...</td>\n",
       "      <td>NaN</td>\n",
       "      <td>NaN</td>\n",
       "      <td>NaN</td>\n",
       "      <td>NaN</td>\n",
       "      <td>NaN</td>\n",
       "      <td>NaN</td>\n",
       "      <td>NaN</td>\n",
       "      <td>NaN</td>\n",
       "      <td>NaN</td>\n",
       "      <td>NaN</td>\n",
       "    </tr>\n",
       "    <tr>\n",
       "      <th>7v10</th>\n",
       "      <td>0.596899</td>\n",
       "      <td>0.609819</td>\n",
       "      <td>0.600775</td>\n",
       "      <td>0.607235</td>\n",
       "      <td>0.609819</td>\n",
       "      <td>0.620155</td>\n",
       "      <td>0.605943</td>\n",
       "      <td>0.590439</td>\n",
       "      <td>0.599483</td>\n",
       "      <td>0.571059</td>\n",
       "      <td>...</td>\n",
       "      <td>0.589147</td>\n",
       "      <td>0.593023</td>\n",
       "      <td>0.574935</td>\n",
       "      <td>0.617571</td>\n",
       "      <td>0.616279</td>\n",
       "      <td>0.595607</td>\n",
       "      <td>0.614987</td>\n",
       "      <td>0.600156</td>\n",
       "      <td>0.599483</td>\n",
       "      <td>0.014206</td>\n",
       "    </tr>\n",
       "    <tr>\n",
       "      <th>7v14</th>\n",
       "      <td>NaN</td>\n",
       "      <td>NaN</td>\n",
       "      <td>NaN</td>\n",
       "      <td>NaN</td>\n",
       "      <td>NaN</td>\n",
       "      <td>NaN</td>\n",
       "      <td>NaN</td>\n",
       "      <td>NaN</td>\n",
       "      <td>NaN</td>\n",
       "      <td>NaN</td>\n",
       "      <td>...</td>\n",
       "      <td>NaN</td>\n",
       "      <td>NaN</td>\n",
       "      <td>NaN</td>\n",
       "      <td>NaN</td>\n",
       "      <td>NaN</td>\n",
       "      <td>NaN</td>\n",
       "      <td>NaN</td>\n",
       "      <td>NaN</td>\n",
       "      <td>NaN</td>\n",
       "      <td>NaN</td>\n",
       "    </tr>\n",
       "    <tr>\n",
       "      <th>10v14</th>\n",
       "      <td>NaN</td>\n",
       "      <td>NaN</td>\n",
       "      <td>NaN</td>\n",
       "      <td>NaN</td>\n",
       "      <td>NaN</td>\n",
       "      <td>NaN</td>\n",
       "      <td>NaN</td>\n",
       "      <td>NaN</td>\n",
       "      <td>NaN</td>\n",
       "      <td>NaN</td>\n",
       "      <td>...</td>\n",
       "      <td>NaN</td>\n",
       "      <td>NaN</td>\n",
       "      <td>NaN</td>\n",
       "      <td>NaN</td>\n",
       "      <td>NaN</td>\n",
       "      <td>NaN</td>\n",
       "      <td>NaN</td>\n",
       "      <td>NaN</td>\n",
       "      <td>NaN</td>\n",
       "      <td>NaN</td>\n",
       "    </tr>\n",
       "  </tbody>\n",
       "</table>\n",
       "<p>10 rows × 1003 columns</p>\n",
       "</div>"
      ],
      "text/plain": [
       "                   1         2         3         4         5         6  \\\n",
       "comparison                                                               \n",
       "1v3         0.191214  0.226098  0.195866  0.222997  0.197028  0.213824   \n",
       "1v7         0.219638  0.244186   0.25323  0.223514  0.250646  0.254522   \n",
       "1v10        0.242894  0.237726  0.258398  0.275194  0.293282  0.254522   \n",
       "1v14             NaN       NaN       NaN       NaN       NaN       NaN   \n",
       "3v7         0.381137  0.414729  0.388889  0.401809  0.416021  0.386305   \n",
       "3v10        0.422481  0.428941  0.414729  0.410853  0.431525  0.428941   \n",
       "3v14             NaN       NaN       NaN       NaN       NaN       NaN   \n",
       "7v10        0.596899  0.609819  0.600775  0.607235  0.609819  0.620155   \n",
       "7v14             NaN       NaN       NaN       NaN       NaN       NaN   \n",
       "10v14            NaN       NaN       NaN       NaN       NaN       NaN   \n",
       "\n",
       "                   7         8         9        10  ...       994       995  \\\n",
       "comparison                                          ...                       \n",
       "1v3          0.20801  0.214729  0.196382  0.200775  ...  0.212532  0.197674   \n",
       "1v7         0.263566   0.23385  0.248062  0.241602  ...  0.236434  0.222222   \n",
       "1v10        0.264858  0.244186  0.236434   0.24677  ...  0.258398  0.248062   \n",
       "1v14             NaN       NaN       NaN       NaN  ...       NaN       NaN   \n",
       "3v7         0.418605  0.388889  0.379845  0.403101  ...  0.400517  0.396641   \n",
       "3v10        0.425065  0.432817  0.449612  0.409561  ...  0.443152  0.418605   \n",
       "3v14             NaN       NaN       NaN       NaN  ...       NaN       NaN   \n",
       "7v10        0.605943  0.590439  0.599483  0.571059  ...  0.589147  0.593023   \n",
       "7v14             NaN       NaN       NaN       NaN  ...       NaN       NaN   \n",
       "10v14            NaN       NaN       NaN       NaN  ...       NaN       NaN   \n",
       "\n",
       "                 996       997       998       999      1000      mean  \\\n",
       "comparison                                                               \n",
       "1v3         0.213178  0.197158   0.23385  0.181525  0.209302  0.206071   \n",
       "1v7         0.271318  0.249354   0.22739    0.2677  0.239018  0.243666   \n",
       "1v10        0.198966  0.239018  0.264858  0.248062   0.23385  0.256120   \n",
       "1v14             NaN       NaN       NaN       NaN       NaN       NaN   \n",
       "3v7         0.401809  0.390181  0.409561  0.396641  0.394057  0.395315   \n",
       "3v10        0.412145  0.435401  0.416021  0.413437  0.401809  0.421693   \n",
       "3v14             NaN       NaN       NaN       NaN       NaN       NaN   \n",
       "7v10        0.574935  0.617571  0.616279  0.595607  0.614987  0.600156   \n",
       "7v14             NaN       NaN       NaN       NaN       NaN       NaN   \n",
       "10v14            NaN       NaN       NaN       NaN       NaN       NaN   \n",
       "\n",
       "              median       std  \n",
       "comparison                      \n",
       "1v3         0.206460  0.017163  \n",
       "1v7         0.242894  0.015202  \n",
       "1v10        0.255814  0.015246  \n",
       "1v14             NaN       NaN  \n",
       "3v7         0.395349  0.015361  \n",
       "3v10        0.421189  0.015419  \n",
       "3v14             NaN       NaN  \n",
       "7v10        0.599483  0.014206  \n",
       "7v14             NaN       NaN  \n",
       "10v14            NaN       NaN  \n",
       "\n",
       "[10 rows x 1003 columns]"
      ]
     },
     "execution_count": 40,
     "metadata": {},
     "output_type": "execute_result"
    }
   ],
   "source": [
    "# create dataframe for comparison result and calculate mean, median, and standard deviation\n",
    "num_list = [str(x) for x in list(range(1,1001))]\n",
    "\n",
    "df = pd.DataFrame(columns = ['comparison']+num_list)\n",
    "df['comparison'] = ['1v3', '1v7', '1v10','1v14','3v7','3v10','3v14','7v10','7v14','10v14']\n",
    "df.set_index(['comparison'],inplace=True)\n",
    "inverse_dict={0:1,1:3,2:7,3:10}\n",
    "for i in range(0,4):\n",
    "    for j in range(0,4):\n",
    "        if j > i:\n",
    "            string = str(inverse_dict[i])+'v'+str(inverse_dict[j])\n",
    "            df.loc[string] = overlap_arr[i][j]\n",
    "df_copy = df.copy()\n",
    "df['mean'] = df_copy.mean(axis = 1)\n",
    "df['median'] = df_copy.median(axis = 1)\n",
    "df['std'] = df_copy.std(axis=1)\n",
    "df"
   ]
  },
  {
   "cell_type": "code",
   "execution_count": 41,
   "metadata": {},
   "outputs": [],
   "source": [
    "# run distribution of ndays sampling vs baseline\n",
    "# do not fix k here\n",
    "\n",
    "def run_distribution(typed):\n",
    "    total_result = []\n",
    "    df1 = pd.DataFrame(columns = ['participant','day','overlap'])\n",
    "    \n",
    "    newlist = [item for items in  [[x]*4 for x in list(food_dict_base.keys())] for item in items]\n",
    "    df1['participant'] = newlist\n",
    "\n",
    "    df1['day'] = [float(x) for x in ['1','3','7','10']*129]\n",
    "    #np.repeat()\n",
    "    \n",
    "    df1 = df1.sort_index()\n",
    "    for parID in list(food_dict_base.keys()):\n",
    "        percent_arr = []\n",
    "        for (n_days,k) in zip([1,3,7,10],[3,4,5,7]):\n",
    "            result = get_random_sample(n_days,parID,typed,k)\n",
    "            percent_arr.append(result)\n",
    "           \n",
    "        total_result.append(np.copy(percent_arr))\n",
    "        \n",
    "        \n",
    "    \n",
    "    overlap_df = np.array(total_result).flatten()\n",
    "\n",
    "    df1['overlap'] = overlap_df\n",
    "    result = np.asarray(total_result).mean(axis = 0)\n",
    "    print(result)\n",
    "\n",
    "    #plt.figure(figsize=(6, 6))\n",
    "    #plt.plot([1,3,7,10],result)\n",
    "    \n",
    "    sns.lineplot(data=df1, x=\"day\", y=\"overlap\")\n",
    "\n",
    "    \n",
    "    return df1\n",
    "    \n",
    "    "
   ]
  },
  {
   "cell_type": "code",
   "execution_count": 42,
   "metadata": {},
   "outputs": [],
   "source": [
    "# run distribution of ndays sampling vs baseline\n",
    "# use fixed k here\n",
    "def run_distribution_k(typed,k):\n",
    "    total_result = []\n",
    "    df1 = pd.DataFrame(columns = ['participant','day','overlap'])\n",
    "    \n",
    "    newlist = [item for items in  [[x]*4 for x in list(food_dict_base.keys())] for item in items]\n",
    "    df1['participant'] = newlist\n",
    "\n",
    "    df1['day'] = [float(x) for x in ['1','3','7','10']*129]\n",
    "    #np.repeat()\n",
    "    \n",
    "    df1 = df1.sort_index()\n",
    "    for parID in list(food_dict_base.keys()):\n",
    "        percent_arr = []\n",
    "        for n_days in [1,3,7,10]:\n",
    "            result = get_random_sample(n_days,parID,typed,k)\n",
    "            percent_arr.append(result)\n",
    "           \n",
    "        total_result.append(np.copy(percent_arr))\n",
    "        \n",
    "        \n",
    "    \n",
    "    overlap_df = np.array(total_result).flatten()\n",
    "\n",
    "    df1['overlap'] = overlap_df\n",
    "    result = np.asarray(total_result).mean(axis = 0)\n",
    "    print(result)\n",
    "\n",
    "    #plt.figure(figsize=(6, 6))\n",
    "    #plt.plot([1,3,7,10],result)\n",
    "    \n",
    "    sns.lineplot(data=df1, x=\"day\", y=\"overlap\")\n",
    "\n",
    "    \n",
    "    return df1\n",
    "    \n",
    "    "
   ]
  },
  {
   "cell_type": "code",
   "execution_count": 43,
   "metadata": {},
   "outputs": [
    {
     "name": "stdout",
     "output_type": "stream",
     "text": [
      "[0.21955039 0.45550646 0.6625168  0.76210336]\n"
     ]
    },
    {
     "data": {
      "image/png": "[encoded data removed]",
      "text/plain": [
       "<Figure size 432x288 with 1 Axes>"
      ]
     },
     "metadata": {
      "needs_background": "light"
     },
     "output_type": "display_data"
    }
   ],
   "source": [
    "df = run_distribution_k('random',3)"
   ]
  },
  {
   "cell_type": "code",
   "execution_count": 44,
   "metadata": {},
   "outputs": [
    {
     "name": "stdout",
     "output_type": "stream",
     "text": [
      "[0.22239018 0.45066085 0.65285426 0.74342082]\n"
     ]
    },
    {
     "data": {
      "image/png": "[encoded data removed]",
      "text/plain": [
       "<Figure size 432x288 with 1 Axes>"
      ]
     },
     "metadata": {
      "needs_background": "light"
     },
     "output_type": "display_data"
    }
   ],
   "source": [
    "df = run_distribution('random')\n"
   ]
  },
  {
   "cell_type": "code",
   "execution_count": 45,
   "metadata": {},
   "outputs": [],
   "source": []
  },
  {
   "cell_type": "code",
   "execution_count": 47,
   "metadata": {},
   "outputs": [
    {
     "name": "stdout",
     "output_type": "stream",
     "text": [
      "[0.22053488 0.43862984 0.62907442 0.72993577]\n"
     ]
    },
    {
     "data": {
      "text/html": [
       "<div>\n",
       "<style scoped>\n",
       "    .dataframe tbody tr th:only-of-type {\n",
       "        vertical-align: middle;\n",
       "    }\n",
       "\n",
       "    .dataframe tbody tr th {\n",
       "        vertical-align: top;\n",
       "    }\n",
       "\n",
       "    .dataframe thead th {\n",
       "        text-align: right;\n",
       "    }\n",
       "</style>\n",
       "<table border=\"1\" class=\"dataframe\">\n",
       "  <thead>\n",
       "    <tr style=\"text-align: right;\">\n",
       "      <th></th>\n",
       "      <th>participant</th>\n",
       "      <th>day</th>\n",
       "      <th>overlap</th>\n",
       "    </tr>\n",
       "  </thead>\n",
       "  <tbody>\n",
       "    <tr>\n",
       "      <th>0</th>\n",
       "      <td>9bbi18050005</td>\n",
       "      <td>1.0</td>\n",
       "      <td>0.293333</td>\n",
       "    </tr>\n",
       "    <tr>\n",
       "      <th>1</th>\n",
       "      <td>9bbi18050005</td>\n",
       "      <td>3.0</td>\n",
       "      <td>0.459500</td>\n",
       "    </tr>\n",
       "    <tr>\n",
       "      <th>2</th>\n",
       "      <td>9bbi18050005</td>\n",
       "      <td>7.0</td>\n",
       "      <td>0.497800</td>\n",
       "    </tr>\n",
       "    <tr>\n",
       "      <th>3</th>\n",
       "      <td>9bbi18050005</td>\n",
       "      <td>10.0</td>\n",
       "      <td>0.482429</td>\n",
       "    </tr>\n",
       "    <tr>\n",
       "      <th>4</th>\n",
       "      <td>9bbi18050009</td>\n",
       "      <td>1.0</td>\n",
       "      <td>0.114667</td>\n",
       "    </tr>\n",
       "    <tr>\n",
       "      <th>...</th>\n",
       "      <td>...</td>\n",
       "      <td>...</td>\n",
       "      <td>...</td>\n",
       "    </tr>\n",
       "    <tr>\n",
       "      <th>511</th>\n",
       "      <td>9bbi19120173</td>\n",
       "      <td>10.0</td>\n",
       "      <td>0.649000</td>\n",
       "    </tr>\n",
       "    <tr>\n",
       "      <th>512</th>\n",
       "      <td>9bbj18110064</td>\n",
       "      <td>1.0</td>\n",
       "      <td>0.293333</td>\n",
       "    </tr>\n",
       "    <tr>\n",
       "      <th>513</th>\n",
       "      <td>9bbj18110064</td>\n",
       "      <td>3.0</td>\n",
       "      <td>0.627750</td>\n",
       "    </tr>\n",
       "    <tr>\n",
       "      <th>514</th>\n",
       "      <td>9bbj18110064</td>\n",
       "      <td>7.0</td>\n",
       "      <td>0.828600</td>\n",
       "    </tr>\n",
       "    <tr>\n",
       "      <th>515</th>\n",
       "      <td>9bbj18110064</td>\n",
       "      <td>10.0</td>\n",
       "      <td>0.954143</td>\n",
       "    </tr>\n",
       "  </tbody>\n",
       "</table>\n",
       "<p>516 rows × 3 columns</p>\n",
       "</div>"
      ],
      "text/plain": [
       "      participant   day   overlap\n",
       "0    9bbi18050005   1.0  0.293333\n",
       "1    9bbi18050005   3.0  0.459500\n",
       "2    9bbi18050005   7.0  0.497800\n",
       "3    9bbi18050005  10.0  0.482429\n",
       "4    9bbi18050009   1.0  0.114667\n",
       "..            ...   ...       ...\n",
       "511  9bbi19120173  10.0  0.649000\n",
       "512  9bbj18110064   1.0  0.293333\n",
       "513  9bbj18110064   3.0  0.627750\n",
       "514  9bbj18110064   7.0  0.828600\n",
       "515  9bbj18110064  10.0  0.954143\n",
       "\n",
       "[516 rows x 3 columns]"
      ]
     },
     "execution_count": 47,
     "metadata": {},
     "output_type": "execute_result"
    },
    {
     "data": {
      "image/png": "[encoded data removed]",
      "text/plain": [
       "<Figure size 432x288 with 1 Axes>"
      ]
     },
     "metadata": {
      "needs_background": "light"
     },
     "output_type": "display_data"
    }
   ],
   "source": [
    "run_distribution('consecutive')"
   ]
  },
  {
   "cell_type": "code",
   "execution_count": null,
   "metadata": {},
   "outputs": [],
   "source": []
  },
  {
   "cell_type": "code",
   "execution_count": 48,
   "metadata": {},
   "outputs": [
    {
     "data": {
      "text/plain": [
       "[('9bbi18100060', 384),\n",
       " ('9bbi19010071', 379),\n",
       " ('9bbi18080049', 369),\n",
       " ('9bbi18080047', 363),\n",
       " ('9bbi19050121', 352),\n",
       " ('9bbi19030090', 351),\n",
       " ('9bbi18070037', 348),\n",
       " ('9bbi18060018', 339),\n",
       " ('9bbi18060028', 336),\n",
       " ('9bbi19030095', 325),\n",
       " ('9bbi19040105', 325),\n",
       " ('9bbi19020076', 324),\n",
       " ('9bbi19040114', 324),\n",
       " ('9bbi18120067', 321),\n",
       " ('9bbi18100062', 318),\n",
       " ('9bbi18080050', 313),\n",
       " ('9bbi19030093', 313),\n",
       " ('9bbi18100061', 311),\n",
       " ('9bbi18120070', 307),\n",
       " ('9bbi18060034', 305),\n",
       " ('9bbi18080051', 300),\n",
       " ('9bbi19020077', 298),\n",
       " ('9bbi18050009', 271),\n",
       " ('9bbi19030094', 267),\n",
       " ('9bbi18120071', 265),\n",
       " ('9bbi18070039', 260),\n",
       " ('9bbi19040104', 259),\n",
       " ('9bbi19040112', 259),\n",
       " ('9bbi18070044', 257),\n",
       " ('9bbi19020074', 254),\n",
       " ('9bbi19060133', 251),\n",
       " ('9bbi18060013', 249),\n",
       " ('9bbi19050116', 249),\n",
       " ('9bbi19080143', 249),\n",
       " ('9bbi18060020', 248),\n",
       " ('9bbi19040109', 247),\n",
       " ('9bbi18080048', 243),\n",
       " ('9bbi18060021', 242),\n",
       " ('9bbi19040097', 241),\n",
       " ('9bbi19040110', 241),\n",
       " ('9bbi19020075', 240),\n",
       " ('9bbi19040107', 240),\n",
       " ('9bbi18060030', 233),\n",
       " ('9bbi19050119', 231),\n",
       " ('9bbi19060130', 230),\n",
       " ('9bbi19090155', 229),\n",
       " ('9bbi19030087', 227),\n",
       " ('9bbi18060031', 225),\n",
       " ('9bbi19020078', 225),\n",
       " ('9bbi19030092', 223),\n",
       " ('9bbi19040099', 219),\n",
       " ('9bbi18070041', 218),\n",
       " ('9bbi19030084', 218),\n",
       " ('9bbi19080141', 218),\n",
       " ('9bbi19040111', 217),\n",
       " ('9bbi19040115', 212),\n",
       " ('9bbi19040096', 208),\n",
       " ('9bbi19070134', 208),\n",
       " ('9bbi19050122', 200),\n",
       " ('9bbi18070043', 197),\n",
       " ('9bbi19020079', 195),\n",
       " ('9bbi19050123', 194),\n",
       " ('9bbi19100161', 194),\n",
       " ('9bbi19090143', 193),\n",
       " ('9bbi18060029', 190),\n",
       " ('9bbi18100063', 188),\n",
       " ('9bbi18090053', 187),\n",
       " ('9bbi19020083', 187),\n",
       " ('9bbi19070138', 186),\n",
       " ('9bbi19090149', 186),\n",
       " ('9bbi18070045', 185),\n",
       " ('9bbi18090057', 184),\n",
       " ('9bbi18070042', 183),\n",
       " ('9bbi18090058', 182),\n",
       " ('9bbi18060023', 180),\n",
       " ('9bbi18090056', 180),\n",
       " ('9bbi19100163', 180),\n",
       " ('9bbi19050125', 176),\n",
       " ('9bbi18060035', 175),\n",
       " ('9bbi19090154', 174),\n",
       " ('9bbi19100159', 170),\n",
       " ('9bbi18070038', 169),\n",
       " ('9bbi19110169', 165),\n",
       " ('9bbi19040101', 164),\n",
       " ('9bbi19090156', 164),\n",
       " ('9bbi18120068', 160),\n",
       " ('9bbi19090150', 160),\n",
       " ('9bbi18060024', 155),\n",
       " ('9bbi19020081', 154),\n",
       " ('9bbi19100166', 151),\n",
       " ('9bbi19010072', 147),\n",
       " ('9bbi19070135', 147),\n",
       " ('9bbi19110168', 141),\n",
       " ('9bbi19110171', 141),\n",
       " ('9bbi18060012', 140),\n",
       " ('9bbi19100162', 139),\n",
       " ('9bbi19040098', 138),\n",
       " ('9bbi19110167', 138),\n",
       " ('9bbi19120173', 136),\n",
       " ('9bbi18090052', 134),\n",
       " ('9bbi19040108', 130),\n",
       " ('9bbi18060022', 126),\n",
       " ('9bbi18050011', 125),\n",
       " ('9bbi19020082', 119),\n",
       " ('9bbi19030089', 119),\n",
       " ('9bbi18050005', 117),\n",
       " ('9bbi19070133', 115),\n",
       " ('9bbi19020080', 114),\n",
       " ('9bbi18110064', 113),\n",
       " ('9bbi19100164', 112),\n",
       " ('9bbi18060036', 105),\n",
       " ('9bbi19080142', 104),\n",
       " ('9bbi19090145', 102),\n",
       " ('9bbi19040113', 101),\n",
       " ('9bbi18060027', 100),\n",
       " ('9bbi19050128', 94),\n",
       " ('9bbi19030085', 90),\n",
       " ('9bbi19090147', 89),\n",
       " ('9bbi19060129', 88),\n",
       " ('9bbi19090148', 87),\n",
       " ('9bbj18110064', 84),\n",
       " ('9bbi19050126', 83),\n",
       " ('9bbi19050118', 82),\n",
       " ('9bbi18060014', 79),\n",
       " ('9bbi19100165', 74),\n",
       " ('9bbi18060017', 72),\n",
       " ('9bbi19090144', 64),\n",
       " ('9bbi19100158', 61),\n",
       " ('9bbi19030086', 58),\n",
       " ('9bbi18090054', 0),\n",
       " ('9bbi18090055', 0),\n",
       " ('9bbi18090059', 0),\n",
       " ('9bbi18110065', 0),\n",
       " ('9bbi19090146', 0),\n",
       " ('9bbi19090151', 0),\n",
       " ('9bbi19090153', 0)]"
      ]
     },
     "execution_count": 48,
     "metadata": {},
     "output_type": "execute_result"
    }
   ],
   "source": [
    "# check how many days of record each participant has\n",
    "days_for_par = {}\n",
    "for parID in list(food_dict.keys()):\n",
    "    days_for_par[parID] = len(food_dict[parID])\n",
    "days_for_par = sorted(days_for_par.items(), key=lambda kv: kv[1],reverse=True)\n",
    "days_for_par\n"
   ]
  },
  {
   "cell_type": "markdown",
   "metadata": {},
   "source": [
    "## Diversity Analysis"
   ]
  },
  {
   "cell_type": "code",
   "execution_count": 49,
   "metadata": {},
   "outputs": [
    {
     "data": {
      "text/html": [
       "<div>\n",
       "<style scoped>\n",
       "    .dataframe tbody tr th:only-of-type {\n",
       "        vertical-align: middle;\n",
       "    }\n",
       "\n",
       "    .dataframe tbody tr th {\n",
       "        vertical-align: top;\n",
       "    }\n",
       "\n",
       "    .dataframe thead th {\n",
       "        text-align: right;\n",
       "    }\n",
       "</style>\n",
       "<table border=\"1\" class=\"dataframe\">\n",
       "  <thead>\n",
       "    <tr style=\"text-align: right;\">\n",
       "      <th></th>\n",
       "      <th></th>\n",
       "      <th>Time</th>\n",
       "      <th>Logged entry</th>\n",
       "      <th>Beverage(b)/Food(f)/Water(w)/medication(m)</th>\n",
       "      <th>Parsed food</th>\n",
       "      <th>DayPassed</th>\n",
       "      <th>group</th>\n",
       "    </tr>\n",
       "    <tr>\n",
       "      <th>ParticipantID</th>\n",
       "      <th>Date</th>\n",
       "      <th></th>\n",
       "      <th></th>\n",
       "      <th></th>\n",
       "      <th></th>\n",
       "      <th></th>\n",
       "      <th></th>\n",
       "    </tr>\n",
       "  </thead>\n",
       "  <tbody>\n",
       "    <tr>\n",
       "      <th rowspan=\"5\" valign=\"top\">9bbi18050005</th>\n",
       "      <th>2018-05-08</th>\n",
       "      <td>18.016667</td>\n",
       "      <td>gatorade 16 oz</td>\n",
       "      <td>b</td>\n",
       "      <td>gatorade</td>\n",
       "      <td>0</td>\n",
       "      <td>baseline</td>\n",
       "    </tr>\n",
       "    <tr>\n",
       "      <th>2018-05-08</th>\n",
       "      <td>19.083333</td>\n",
       "      <td>2 grilled shrim tacos</td>\n",
       "      <td>f</td>\n",
       "      <td>shrimp taco</td>\n",
       "      <td>0</td>\n",
       "      <td>baseline</td>\n",
       "    </tr>\n",
       "    <tr>\n",
       "      <th>2018-05-08</th>\n",
       "      <td>19.100000</td>\n",
       "      <td>1 coke</td>\n",
       "      <td>b</td>\n",
       "      <td>coke</td>\n",
       "      <td>0</td>\n",
       "      <td>baseline</td>\n",
       "    </tr>\n",
       "    <tr>\n",
       "      <th>2018-05-08</th>\n",
       "      <td>12.900000</td>\n",
       "      <td>granola bar</td>\n",
       "      <td>f</td>\n",
       "      <td>granola bar</td>\n",
       "      <td>0</td>\n",
       "      <td>baseline</td>\n",
       "    </tr>\n",
       "    <tr>\n",
       "      <th>2018-05-08</th>\n",
       "      <td>11.650000</td>\n",
       "      <td>granola bar</td>\n",
       "      <td>f</td>\n",
       "      <td>granola bar</td>\n",
       "      <td>0</td>\n",
       "      <td>baseline</td>\n",
       "    </tr>\n",
       "    <tr>\n",
       "      <th>...</th>\n",
       "      <th>...</th>\n",
       "      <td>...</td>\n",
       "      <td>...</td>\n",
       "      <td>...</td>\n",
       "      <td>...</td>\n",
       "      <td>...</td>\n",
       "      <td>...</td>\n",
       "    </tr>\n",
       "    <tr>\n",
       "      <th rowspan=\"5\" valign=\"top\">9bbj18110064</th>\n",
       "      <th>2019-12-18</th>\n",
       "      <td>17.750000</td>\n",
       "      <td>meat pasta</td>\n",
       "      <td>f</td>\n",
       "      <td>meat</td>\n",
       "      <td>377</td>\n",
       "      <td>intervention</td>\n",
       "    </tr>\n",
       "    <tr>\n",
       "      <th>2019-12-18</th>\n",
       "      <td>17.750000</td>\n",
       "      <td>meat pasta</td>\n",
       "      <td>f</td>\n",
       "      <td>pasta</td>\n",
       "      <td>377</td>\n",
       "      <td>intervention</td>\n",
       "    </tr>\n",
       "    <tr>\n",
       "      <th>2019-12-18</th>\n",
       "      <td>12.750000</td>\n",
       "      <td>turkey sandwich</td>\n",
       "      <td>f</td>\n",
       "      <td>turkey sandwich</td>\n",
       "      <td>377</td>\n",
       "      <td>intervention</td>\n",
       "    </tr>\n",
       "    <tr>\n",
       "      <th>2019-12-18</th>\n",
       "      <td>9.000000</td>\n",
       "      <td>oatmeal</td>\n",
       "      <td>f</td>\n",
       "      <td>oatmeal</td>\n",
       "      <td>377</td>\n",
       "      <td>intervention</td>\n",
       "    </tr>\n",
       "    <tr>\n",
       "      <th>2019-12-18</th>\n",
       "      <td>22.800000</td>\n",
       "      <td>cooffee</td>\n",
       "      <td>b</td>\n",
       "      <td>coffee</td>\n",
       "      <td>377</td>\n",
       "      <td>intervention</td>\n",
       "    </tr>\n",
       "  </tbody>\n",
       "</table>\n",
       "<p>184092 rows × 6 columns</p>\n",
       "</div>"
      ],
      "text/plain": [
       "                               Time           Logged entry  \\\n",
       "ParticipantID Date                                           \n",
       "9bbi18050005  2018-05-08  18.016667         gatorade 16 oz   \n",
       "              2018-05-08  19.083333  2 grilled shrim tacos   \n",
       "              2018-05-08  19.100000                 1 coke   \n",
       "              2018-05-08  12.900000            granola bar   \n",
       "              2018-05-08  11.650000            granola bar   \n",
       "...                             ...                    ...   \n",
       "9bbj18110064  2019-12-18  17.750000             meat pasta   \n",
       "              2019-12-18  17.750000             meat pasta   \n",
       "              2019-12-18  12.750000        turkey sandwich   \n",
       "              2019-12-18   9.000000                oatmeal   \n",
       "              2019-12-18  22.800000                cooffee   \n",
       "\n",
       "                         Beverage(b)/Food(f)/Water(w)/medication(m)  \\\n",
       "ParticipantID Date                                                    \n",
       "9bbi18050005  2018-05-08                                          b   \n",
       "              2018-05-08                                          f   \n",
       "              2018-05-08                                          b   \n",
       "              2018-05-08                                          f   \n",
       "              2018-05-08                                          f   \n",
       "...                                                             ...   \n",
       "9bbj18110064  2019-12-18                                          f   \n",
       "              2019-12-18                                          f   \n",
       "              2019-12-18                                          f   \n",
       "              2019-12-18                                          f   \n",
       "              2019-12-18                                          b   \n",
       "\n",
       "                              Parsed food  DayPassed         group  \n",
       "ParticipantID Date                                                  \n",
       "9bbi18050005  2018-05-08         gatorade          0      baseline  \n",
       "              2018-05-08      shrimp taco          0      baseline  \n",
       "              2018-05-08             coke          0      baseline  \n",
       "              2018-05-08      granola bar          0      baseline  \n",
       "              2018-05-08      granola bar          0      baseline  \n",
       "...                                   ...        ...           ...  \n",
       "9bbj18110064  2019-12-18             meat        377  intervention  \n",
       "              2019-12-18            pasta        377  intervention  \n",
       "              2019-12-18  turkey sandwich        377  intervention  \n",
       "              2019-12-18          oatmeal        377  intervention  \n",
       "              2019-12-18           coffee        377  intervention  \n",
       "\n",
       "[184092 rows x 6 columns]"
      ]
     },
     "execution_count": 49,
     "metadata": {},
     "output_type": "execute_result"
    }
   ],
   "source": [
    "df_index"
   ]
  },
  {
   "cell_type": "code",
   "execution_count": 50,
   "metadata": {},
   "outputs": [
    {
     "data": {
      "text/plain": [
       "array(['gatorade', 'shrimp taco', 'coke', 'granola bar', 'yogurt',\n",
       "       'egg burrito', 'sausage', 'grapefruit', 'pizza',\n",
       "       'coffee cream sugar', 'fruit', 'lemon', 'chile', 'ice cream',\n",
       "       'steak egg', 'cheese', 'potato', 'burrito', 'coffee creamer',\n",
       "       'banana', 'iced coffee cream', 'taco salad', 'watermelon', 'bagel',\n",
       "       'shrimp burrito', 'salsa', 'beer', 'carne asada', 'nacho',\n",
       "       'spinach', 'avocado', 'bacon', 'mango', 'orange', 'melon',\n",
       "       'peanut butter', 'walnut', 'salad', 'wine', 'chocolate cake',\n",
       "       'caprese', 'salami', 'cracker', 'pear', 'margarita', 'beef', 'rib',\n",
       "       'coleslaw', 'bbq', 'bean', 'hash brown', 'chorizo', 'taco',\n",
       "       'pita chip', 'cinnamon', 'fried chicken', 'broccoli',\n",
       "       'iced coffee', 'carne asada burrito', 'tuna sandwich', 'sourdough',\n",
       "       'celery', 'chip', 'pork rib', 'corn', 'asparagus', 'egg',\n",
       "       'orange juice', 'donut', 'breakfast burrito', 'milk', 'gummies',\n",
       "       'brisket', 'sandwich', 'chicken caesar salad', 'garlic bread',\n",
       "       'carnitas', 'chip salsa', 'vanilla ice cream', 'cheeseburger',\n",
       "       'fry', 'croissant', 'cottage cheese', 'green', 'juice',\n",
       "       'spaghetti meat sauce', 'iced tea', 'lemonade', 'pancake', 'syrup',\n",
       "       'clam chowder', 'popcorn', 'rice', 'veggie', 'brown rice',\n",
       "       'caesar salad', 'steak salad'], dtype=object)"
      ]
     },
     "execution_count": 50,
     "metadata": {},
     "output_type": "execute_result"
    }
   ],
   "source": [
    "df_temp = df_index.query('ParticipantID == \"9bbi18050005\" and DayPassed <= 14' )\n",
    "df_temp['Parsed food'].unique()\n"
   ]
  },
  {
   "cell_type": "code",
   "execution_count": 51,
   "metadata": {},
   "outputs": [
    {
     "data": {
      "text/plain": [
       "Text(0.5, 1.0, 'Histogram of diversity')"
      ]
     },
     "execution_count": 51,
     "metadata": {},
     "output_type": "execute_result"
    },
    {
     "data": {
      "image/png": "[encoded data removed]",
      "text/plain": [
       "<Figure size 432x288 with 1 Axes>"
      ]
     },
     "metadata": {
      "needs_background": "light"
     },
     "output_type": "display_data"
    }
   ],
   "source": [
    "# calculate diversity of each participant in first 14 days\n",
    "diversity = {}\n",
    "for parID in food_dict_base.keys():\n",
    "    df_temp = df_index.query('ParticipantID == @parID and DayPassed <= 14' )\n",
    "    unique_food_num = len(df_temp['Parsed food'].unique())\n",
    "    diversity[parID] = unique_food_num\n",
    "diversity_value = diversity.values()    \n",
    "_ = plt.hist(diversity_value, bins=20)\n",
    "plt.title(\"Histogram of diversity\")"
   ]
  },
  {
   "cell_type": "code",
   "execution_count": 52,
   "metadata": {},
   "outputs": [],
   "source": [
    "df_diversity = pd.Series(diversity).to_frame()\n",
    "df_diversity.rename({0:'diversity'}, axis='columns',inplace=True)\n",
    "df_diversity.sort_values(by=['diversity'],inplace=True)\n",
    "df_diversity.reset_index(inplace=True)\n",
    "df_diversity.rename({'index':'ParticipantID'}, axis='columns',inplace=True)"
   ]
  },
  {
   "cell_type": "code",
   "execution_count": 53,
   "metadata": {},
   "outputs": [],
   "source": [
    "# extract 5 participants of low, middle and high diversity\n",
    "low_diversity = df_diversity[:5]\n",
    "middle_diversity = df_diversity[62:67]\n",
    "high_diversity = df_diversity[124:]\n",
    "low_id = np.array(low_diversity['ParticipantID'])\n",
    "mid_id = np.array(middle_diversity['ParticipantID'])\n",
    "high_id = np.array(high_diversity['ParticipantID'])"
   ]
  },
  {
   "cell_type": "code",
   "execution_count": 54,
   "metadata": {},
   "outputs": [
    {
     "data": {
      "text/html": [
       "<div>\n",
       "<style scoped>\n",
       "    .dataframe tbody tr th:only-of-type {\n",
       "        vertical-align: middle;\n",
       "    }\n",
       "\n",
       "    .dataframe tbody tr th {\n",
       "        vertical-align: top;\n",
       "    }\n",
       "\n",
       "    .dataframe thead th {\n",
       "        text-align: right;\n",
       "    }\n",
       "</style>\n",
       "<table border=\"1\" class=\"dataframe\">\n",
       "  <thead>\n",
       "    <tr style=\"text-align: right;\">\n",
       "      <th></th>\n",
       "      <th>ParticipantID</th>\n",
       "      <th>diversity</th>\n",
       "    </tr>\n",
       "  </thead>\n",
       "  <tbody>\n",
       "    <tr>\n",
       "      <th>62</th>\n",
       "      <td>9bbi18060020</td>\n",
       "      <td>64</td>\n",
       "    </tr>\n",
       "    <tr>\n",
       "      <th>63</th>\n",
       "      <td>9bbi18060021</td>\n",
       "      <td>64</td>\n",
       "    </tr>\n",
       "    <tr>\n",
       "      <th>64</th>\n",
       "      <td>9bbi18060030</td>\n",
       "      <td>66</td>\n",
       "    </tr>\n",
       "    <tr>\n",
       "      <th>65</th>\n",
       "      <td>9bbi18100062</td>\n",
       "      <td>66</td>\n",
       "    </tr>\n",
       "    <tr>\n",
       "      <th>66</th>\n",
       "      <td>9bbi18070043</td>\n",
       "      <td>67</td>\n",
       "    </tr>\n",
       "  </tbody>\n",
       "</table>\n",
       "</div>"
      ],
      "text/plain": [
       "   ParticipantID  diversity\n",
       "62  9bbi18060020         64\n",
       "63  9bbi18060021         64\n",
       "64  9bbi18060030         66\n",
       "65  9bbi18100062         66\n",
       "66  9bbi18070043         67"
      ]
     },
     "execution_count": 54,
     "metadata": {},
     "output_type": "execute_result"
    }
   ],
   "source": [
    "middle_diversity"
   ]
  },
  {
   "cell_type": "code",
   "execution_count": 55,
   "metadata": {},
   "outputs": [],
   "source": [
    "# for each people, generate a histogram, np.unique (return counts and sort), divide by the sum of food items; x axis: unique food items\n",
    "# seaborn, histogram, density plot; facetgrid want all have the same y axis\n",
    "# matplotshare y == true\n",
    "# lowest 5, middle 5, highest 5"
   ]
  },
  {
   "cell_type": "code",
   "execution_count": 56,
   "metadata": {},
   "outputs": [],
   "source": [
    "# method to generate dictionary used to plot participant's diet diversity\n",
    "def generate_div(parID):\n",
    "    \n",
    "    a=np.array(df_index.query('ParticipantID==@parID and group == \"baseline\"')['Parsed food'])\n",
    "    total_num = len(a)\n",
    "    values, counts=np.unique(a,return_counts=True)\n",
    "    div_dict = dict(zip(values,counts))\n",
    "    div = dict(sorted(div_dict.items(), key=lambda x: x[1], reverse=True))\n",
    "    return div,total_num\n",
    "    "
   ]
  },
  {
   "cell_type": "code",
   "execution_count": 57,
   "metadata": {},
   "outputs": [],
   "source": [
    "# method to generate dictionary with food items which appears more than once\n",
    "def generate_div2(parID):\n",
    "    \n",
    "    a=np.array(df_index.query('ParticipantID==@parID and group == \"baseline\"')['Parsed food'])\n",
    "    total_num = len(a)\n",
    "    values, counts=np.unique(a,return_counts=True)\n",
    "    div_dict = dict(zip(values,counts))\n",
    "    div = dict(sorted(div_dict.items(), key=lambda x: x[1], reverse=True))\n",
    "    div_subset = {key: value for key, value in div.items() if value > 1}\n",
    "\n",
    "    return div_subset,total_num"
   ]
  },
  {
   "cell_type": "markdown",
   "metadata": {},
   "source": [
    "Plot diversity barplot for the top5, middle5, and lowest 5 participants w.r.t their food diversity\n",
    "\n",
    "X-axis indicates unique food items appeared in a person's diet, which is neglected for better visualization\n",
    "\n",
    "Y-axis indicates density of each food item"
   ]
  },
  {
   "cell_type": "code",
   "execution_count": 58,
   "metadata": {},
   "outputs": [
    {
     "data": {
      "image/png": "[encoded data removed]",
      "text/plain": [
       "<Figure size 1440x720 with 15 Axes>"
      ]
     },
     "metadata": {
      "needs_background": "light"
     },
     "output_type": "display_data"
    }
   ],
   "source": [
    "plt.figure(figsize=(20,10))\n",
    "num_plot = 1\n",
    "#low diversity\n",
    "for parID in low_id:\n",
    "    div,total_num = generate_div(parID)\n",
    "    plt.subplot(3,5,num_plot)\n",
    "    plt.bar(div.keys(), [x/total_num for x in div.values()])\n",
    "    plt.xticks([])\n",
    "    #axes[num_plot].set_xlabel(\"\")\n",
    "    num_plot +=1\n",
    "#middle diversity\n",
    "for parID in mid_id:\n",
    "    div,total_num = generate_div(parID)\n",
    "    plt.subplot(3,5,num_plot)\n",
    "    plt.bar(div.keys(), [x/total_num for x in div.values()])\n",
    "    plt.xticks([])\n",
    "    num_plot +=1\n",
    "#high diversity\n",
    "for parID in high_id:\n",
    "    div,total_num = generate_div(parID)\n",
    "    plt.subplot(3,5,num_plot)\n",
    "    plt.bar(div.keys(), [x/total_num for x in div.values()])\n",
    "    plt.xticks([])\n",
    "    num_plot +=1\n",
    "\n"
   ]
  },
  {
   "cell_type": "markdown",
   "metadata": {},
   "source": [
    "Shared Y version of the above plot"
   ]
  },
  {
   "cell_type": "code",
   "execution_count": 59,
   "metadata": {},
   "outputs": [
    {
     "data": {
      "image/png": "[encoded data removed]",
      "text/plain": [
       "<Figure size 1440x720 with 15 Axes>"
      ]
     },
     "metadata": {
      "needs_background": "light"
     },
     "output_type": "display_data"
    }
   ],
   "source": [
    "\n",
    "fig, ((ax1, ax2,ax3,ax4,ax5), (ax6, ax7,ax8,ax9,ax10),(ax11,ax12,ax13,ax14,ax15)) = plt.subplots(3, 5,sharey=True,figsize=(20,10))\n",
    "num_plot = 1\n",
    "for parID,ax in zip(low_id,[ax1,ax2,ax3,ax4,ax5]):\n",
    "    div,total_num = generate_div(parID)\n",
    "    \n",
    " \n",
    "    ax.bar(div.keys(), [x/total_num for x in div.values()])\n",
    "    ax.set_xticks([])\n",
    "    num_plot +=1\n",
    "for (parID,ax) in zip(mid_id,[ax6, ax7,ax8,ax9,ax10]):\n",
    "    div,total_num = generate_div(parID)\n",
    "\n",
    "    ax.bar(div.keys(), [x/total_num for x in div.values()])\n",
    "    ax.set_xticks([])\n",
    "    num_plot +=1\n",
    "for (parID,ax) in zip(high_id,[ax11,ax12,ax13,ax14,ax15]):\n",
    "    div,total_num = generate_div(parID)\n",
    "\n",
    "    ax.bar(div.keys(), [x/total_num for x in div.values()])\n",
    "    ax.set_xticks([])\n",
    "    num_plot +=1\n",
    "\n",
    "\n"
   ]
  },
  {
   "cell_type": "code",
   "execution_count": 60,
   "metadata": {},
   "outputs": [],
   "source": [
    "#visualize diveristy: denote number of unique items; display food name vertical; limit: frequency 1"
   ]
  },
  {
   "cell_type": "code",
   "execution_count": 75,
   "metadata": {},
   "outputs": [],
   "source": [
    "#Plot diversity barplot for each individual. For better visualization, we exclude food item that appeared only once\n",
    "\n",
    "#X-axis indicates unique food items appeared in a person's diet, which is neglected for better visualization\n",
    "\n",
    "#Y-axis indicates density of each food item\n",
    "def visualize_diversity(parID):\n",
    "    plt.figure(figsize=(20,10))\n",
    "    div,total_num = generate_div2(parID)\n",
    "    plt.bar(div.keys(), [x/total_num for x in div.values()])\n",
    "    plt.xticks(rotation='vertical')\n",
    "    \n"
   ]
  },
  {
   "cell_type": "code",
   "execution_count": 76,
   "metadata": {},
   "outputs": [
    {
     "data": {
      "image/png": "[encoded data removed]",
      "text/plain": [
       "<Figure size 1440x720 with 1 Axes>"
      ]
     },
     "metadata": {
      "needs_background": "light"
     },
     "output_type": "display_data"
    }
   ],
   "source": [
    "#participant from high-diversity group\n",
    "visualize_diversity('9bbi18090058')"
   ]
  },
  {
   "cell_type": "code",
   "execution_count": 77,
   "metadata": {},
   "outputs": [
    {
     "data": {
      "image/png": "[encoded data removed]",
      "text/plain": [
       "<Figure size 1440x720 with 1 Axes>"
      ]
     },
     "metadata": {
      "needs_background": "light"
     },
     "output_type": "display_data"
    }
   ],
   "source": [
    "# participant from middle-diversity group \n",
    "visualize_diversity('9bbi18060020')"
   ]
  },
  {
   "cell_type": "code",
   "execution_count": null,
   "metadata": {},
   "outputs": [],
   "source": [
    "# does tre change diversity\n",
    "# diversity in intervention period"
   ]
  },
  {
   "cell_type": "code",
   "execution_count": 78,
   "metadata": {},
   "outputs": [
    {
     "data": {
      "image/png": "[encoded data removed]",
      "text/plain": [
       "<Figure size 1440x720 with 1 Axes>"
      ]
     },
     "metadata": {
      "needs_background": "light"
     },
     "output_type": "display_data"
    }
   ],
   "source": [
    "# participant from low diversity group\n",
    "visualize_diversity('9bbi18070044')"
   ]
  },
  {
   "cell_type": "code",
   "execution_count": null,
   "metadata": {},
   "outputs": [],
   "source": [
    "from sklearn.preprocessing import quantile_transform"
   ]
  },
  {
   "cell_type": "code",
   "execution_count": null,
   "metadata": {},
   "outputs": [],
   "source": [
    "diversity"
   ]
  },
  {
   "cell_type": "code",
   "execution_count": null,
   "metadata": {},
   "outputs": [],
   "source": [
    "pd.DataFrame(diversity)"
   ]
  },
  {
   "cell_type": "code",
   "execution_count": null,
   "metadata": {},
   "outputs": [],
   "source": [
    "quantile_transform(pd.Series(diversity).to_frame().T)"
   ]
  },
  {
   "cell_type": "code",
   "execution_count": null,
   "metadata": {},
   "outputs": [],
   "source": [
    "frame = pd.Series(diversity).sort_values().to_frame()"
   ]
  },
  {
   "cell_type": "code",
   "execution_count": null,
   "metadata": {},
   "outputs": [],
   "source": [
    "frame"
   ]
  },
  {
   "cell_type": "code",
   "execution_count": null,
   "metadata": {},
   "outputs": [],
   "source": [
    "df_index.query('ParticipantID == \"9bbi19090151\" and DayPassed <= 14') # outlier\n",
    "# check whether all havr 14 days\n",
    "# for each people, generate a histogram, np.unique (return counts and sort), divide by the sum of food items; x axis: unique food items\n",
    "# seaborn, histogram, density plot; facetgrid want all have the same y axis\n",
    "# matplotshare y == true\n",
    "# lowest 5, middle 5, highest 5"
   ]
  },
  {
   "cell_type": "code",
   "execution_count": null,
   "metadata": {},
   "outputs": [],
   "source": [
    "df.query('comparison == \"7v14\"')"
   ]
  },
  {
   "cell_type": "code",
   "execution_count": 79,
   "metadata": {},
   "outputs": [
    {
     "ename": "FileNotFoundError",
     "evalue": "[Errno 2] File 4_movie_keywords does not exist: '4_movie_keywords'",
     "output_type": "error",
     "traceback": [
      "\u001b[0;31m---------------------------------------------------------------------------\u001b[0m",
      "\u001b[0;31mFileNotFoundError\u001b[0m                         Traceback (most recent call last)",
      "\u001b[0;32m<ipython-input-79-24c02be1ccc8>\u001b[0m in \u001b[0;36m<module>\u001b[0;34m\u001b[0m\n\u001b[1;32m      4\u001b[0m \u001b[0mkw_counts_list_by_score\u001b[0m \u001b[0;34m=\u001b[0m \u001b[0;34m[\u001b[0m\u001b[0;34m[\u001b[0m\u001b[0;34m]\u001b[0m \u001b[0;32mfor\u001b[0m \u001b[0mi\u001b[0m \u001b[0;32min\u001b[0m \u001b[0mrange\u001b[0m\u001b[0;34m(\u001b[0m\u001b[0;36m10\u001b[0m\u001b[0;34m)\u001b[0m\u001b[0;34m]\u001b[0m\u001b[0;34m\u001b[0m\u001b[0;34m\u001b[0m\u001b[0m\n\u001b[1;32m      5\u001b[0m \u001b[0;32mfor\u001b[0m \u001b[0mi\u001b[0m \u001b[0;32min\u001b[0m \u001b[0mrange\u001b[0m\u001b[0;34m(\u001b[0m\u001b[0;36m4\u001b[0m\u001b[0;34m,\u001b[0m\u001b[0;36m10\u001b[0m\u001b[0;34m)\u001b[0m\u001b[0;34m:\u001b[0m\u001b[0;34m\u001b[0m\u001b[0;34m\u001b[0m\u001b[0m\n\u001b[0;32m----> 6\u001b[0;31m     \u001b[0mkw_counts_list_by_score\u001b[0m\u001b[0;34m[\u001b[0m\u001b[0mi\u001b[0m\u001b[0;34m]\u001b[0m \u001b[0;34m=\u001b[0m \u001b[0mpd\u001b[0m\u001b[0;34m.\u001b[0m\u001b[0mread_csv\u001b[0m\u001b[0;34m(\u001b[0m\u001b[0;34m'{}_movie_keywords'\u001b[0m\u001b[0;34m.\u001b[0m\u001b[0mformat\u001b[0m\u001b[0;34m(\u001b[0m\u001b[0mi\u001b[0m\u001b[0;34m)\u001b[0m\u001b[0;34m)\u001b[0m\u001b[0;34m\u001b[0m\u001b[0;34m\u001b[0m\u001b[0m\n\u001b[0m\u001b[1;32m      7\u001b[0m     \u001b[0;31m# kw_counts_list_by_score = kw_counts_list_by_score.to_list()\u001b[0m\u001b[0;34m\u001b[0m\u001b[0;34m\u001b[0m\u001b[0;34m\u001b[0m\u001b[0m\n\u001b[1;32m      8\u001b[0m     \u001b[0mprint\u001b[0m\u001b[0;34m(\u001b[0m\u001b[0mkw_counts_list_by_score\u001b[0m\u001b[0;34m[\u001b[0m\u001b[0;36m9\u001b[0m\u001b[0;34m]\u001b[0m\u001b[0;34m)\u001b[0m\u001b[0;34m\u001b[0m\u001b[0;34m\u001b[0m\u001b[0m\n",
      "\u001b[0;32m~/opt/anaconda3/lib/python3.7/site-packages/pandas/io/parsers.py\u001b[0m in \u001b[0;36mparser_f\u001b[0;34m(filepath_or_buffer, sep, delimiter, header, names, index_col, usecols, squeeze, prefix, mangle_dupe_cols, dtype, engine, converters, true_values, false_values, skipinitialspace, skiprows, skipfooter, nrows, na_values, keep_default_na, na_filter, verbose, skip_blank_lines, parse_dates, infer_datetime_format, keep_date_col, date_parser, dayfirst, cache_dates, iterator, chunksize, compression, thousands, decimal, lineterminator, quotechar, quoting, doublequote, escapechar, comment, encoding, dialect, error_bad_lines, warn_bad_lines, delim_whitespace, low_memory, memory_map, float_precision)\u001b[0m\n\u001b[1;32m    674\u001b[0m         )\n\u001b[1;32m    675\u001b[0m \u001b[0;34m\u001b[0m\u001b[0m\n\u001b[0;32m--> 676\u001b[0;31m         \u001b[0;32mreturn\u001b[0m \u001b[0m_read\u001b[0m\u001b[0;34m(\u001b[0m\u001b[0mfilepath_or_buffer\u001b[0m\u001b[0;34m,\u001b[0m \u001b[0mkwds\u001b[0m\u001b[0;34m)\u001b[0m\u001b[0;34m\u001b[0m\u001b[0;34m\u001b[0m\u001b[0m\n\u001b[0m\u001b[1;32m    677\u001b[0m \u001b[0;34m\u001b[0m\u001b[0m\n\u001b[1;32m    678\u001b[0m     \u001b[0mparser_f\u001b[0m\u001b[0;34m.\u001b[0m\u001b[0m__name__\u001b[0m \u001b[0;34m=\u001b[0m \u001b[0mname\u001b[0m\u001b[0;34m\u001b[0m\u001b[0;34m\u001b[0m\u001b[0m\n",
      "\u001b[0;32m~/opt/anaconda3/lib/python3.7/site-packages/pandas/io/parsers.py\u001b[0m in \u001b[0;36m_read\u001b[0;34m(filepath_or_buffer, kwds)\u001b[0m\n\u001b[1;32m    446\u001b[0m \u001b[0;34m\u001b[0m\u001b[0m\n\u001b[1;32m    447\u001b[0m     \u001b[0;31m# Create the parser.\u001b[0m\u001b[0;34m\u001b[0m\u001b[0;34m\u001b[0m\u001b[0;34m\u001b[0m\u001b[0m\n\u001b[0;32m--> 448\u001b[0;31m     \u001b[0mparser\u001b[0m \u001b[0;34m=\u001b[0m \u001b[0mTextFileReader\u001b[0m\u001b[0;34m(\u001b[0m\u001b[0mfp_or_buf\u001b[0m\u001b[0;34m,\u001b[0m \u001b[0;34m**\u001b[0m\u001b[0mkwds\u001b[0m\u001b[0;34m)\u001b[0m\u001b[0;34m\u001b[0m\u001b[0;34m\u001b[0m\u001b[0m\n\u001b[0m\u001b[1;32m    449\u001b[0m \u001b[0;34m\u001b[0m\u001b[0m\n\u001b[1;32m    450\u001b[0m     \u001b[0;32mif\u001b[0m \u001b[0mchunksize\u001b[0m \u001b[0;32mor\u001b[0m \u001b[0miterator\u001b[0m\u001b[0;34m:\u001b[0m\u001b[0;34m\u001b[0m\u001b[0;34m\u001b[0m\u001b[0m\n",
      "\u001b[0;32m~/opt/anaconda3/lib/python3.7/site-packages/pandas/io/parsers.py\u001b[0m in \u001b[0;36m__init__\u001b[0;34m(self, f, engine, **kwds)\u001b[0m\n\u001b[1;32m    878\u001b[0m             \u001b[0mself\u001b[0m\u001b[0;34m.\u001b[0m\u001b[0moptions\u001b[0m\u001b[0;34m[\u001b[0m\u001b[0;34m\"has_index_names\"\u001b[0m\u001b[0;34m]\u001b[0m \u001b[0;34m=\u001b[0m \u001b[0mkwds\u001b[0m\u001b[0;34m[\u001b[0m\u001b[0;34m\"has_index_names\"\u001b[0m\u001b[0;34m]\u001b[0m\u001b[0;34m\u001b[0m\u001b[0;34m\u001b[0m\u001b[0m\n\u001b[1;32m    879\u001b[0m \u001b[0;34m\u001b[0m\u001b[0m\n\u001b[0;32m--> 880\u001b[0;31m         \u001b[0mself\u001b[0m\u001b[0;34m.\u001b[0m\u001b[0m_make_engine\u001b[0m\u001b[0;34m(\u001b[0m\u001b[0mself\u001b[0m\u001b[0;34m.\u001b[0m\u001b[0mengine\u001b[0m\u001b[0;34m)\u001b[0m\u001b[0;34m\u001b[0m\u001b[0;34m\u001b[0m\u001b[0m\n\u001b[0m\u001b[1;32m    881\u001b[0m \u001b[0;34m\u001b[0m\u001b[0m\n\u001b[1;32m    882\u001b[0m     \u001b[0;32mdef\u001b[0m \u001b[0mclose\u001b[0m\u001b[0;34m(\u001b[0m\u001b[0mself\u001b[0m\u001b[0;34m)\u001b[0m\u001b[0;34m:\u001b[0m\u001b[0;34m\u001b[0m\u001b[0;34m\u001b[0m\u001b[0m\n",
      "\u001b[0;32m~/opt/anaconda3/lib/python3.7/site-packages/pandas/io/parsers.py\u001b[0m in \u001b[0;36m_make_engine\u001b[0;34m(self, engine)\u001b[0m\n\u001b[1;32m   1112\u001b[0m     \u001b[0;32mdef\u001b[0m \u001b[0m_make_engine\u001b[0m\u001b[0;34m(\u001b[0m\u001b[0mself\u001b[0m\u001b[0;34m,\u001b[0m \u001b[0mengine\u001b[0m\u001b[0;34m=\u001b[0m\u001b[0;34m\"c\"\u001b[0m\u001b[0;34m)\u001b[0m\u001b[0;34m:\u001b[0m\u001b[0;34m\u001b[0m\u001b[0;34m\u001b[0m\u001b[0m\n\u001b[1;32m   1113\u001b[0m         \u001b[0;32mif\u001b[0m \u001b[0mengine\u001b[0m \u001b[0;34m==\u001b[0m \u001b[0;34m\"c\"\u001b[0m\u001b[0;34m:\u001b[0m\u001b[0;34m\u001b[0m\u001b[0;34m\u001b[0m\u001b[0m\n\u001b[0;32m-> 1114\u001b[0;31m             \u001b[0mself\u001b[0m\u001b[0;34m.\u001b[0m\u001b[0m_engine\u001b[0m \u001b[0;34m=\u001b[0m \u001b[0mCParserWrapper\u001b[0m\u001b[0;34m(\u001b[0m\u001b[0mself\u001b[0m\u001b[0;34m.\u001b[0m\u001b[0mf\u001b[0m\u001b[0;34m,\u001b[0m \u001b[0;34m**\u001b[0m\u001b[0mself\u001b[0m\u001b[0;34m.\u001b[0m\u001b[0moptions\u001b[0m\u001b[0;34m)\u001b[0m\u001b[0;34m\u001b[0m\u001b[0;34m\u001b[0m\u001b[0m\n\u001b[0m\u001b[1;32m   1115\u001b[0m         \u001b[0;32melse\u001b[0m\u001b[0;34m:\u001b[0m\u001b[0;34m\u001b[0m\u001b[0;34m\u001b[0m\u001b[0m\n\u001b[1;32m   1116\u001b[0m             \u001b[0;32mif\u001b[0m \u001b[0mengine\u001b[0m \u001b[0;34m==\u001b[0m \u001b[0;34m\"python\"\u001b[0m\u001b[0;34m:\u001b[0m\u001b[0;34m\u001b[0m\u001b[0;34m\u001b[0m\u001b[0m\n",
      "\u001b[0;32m~/opt/anaconda3/lib/python3.7/site-packages/pandas/io/parsers.py\u001b[0m in \u001b[0;36m__init__\u001b[0;34m(self, src, **kwds)\u001b[0m\n\u001b[1;32m   1889\u001b[0m         \u001b[0mkwds\u001b[0m\u001b[0;34m[\u001b[0m\u001b[0;34m\"usecols\"\u001b[0m\u001b[0;34m]\u001b[0m \u001b[0;34m=\u001b[0m \u001b[0mself\u001b[0m\u001b[0;34m.\u001b[0m\u001b[0musecols\u001b[0m\u001b[0;34m\u001b[0m\u001b[0;34m\u001b[0m\u001b[0m\n\u001b[1;32m   1890\u001b[0m \u001b[0;34m\u001b[0m\u001b[0m\n\u001b[0;32m-> 1891\u001b[0;31m         \u001b[0mself\u001b[0m\u001b[0;34m.\u001b[0m\u001b[0m_reader\u001b[0m \u001b[0;34m=\u001b[0m \u001b[0mparsers\u001b[0m\u001b[0;34m.\u001b[0m\u001b[0mTextReader\u001b[0m\u001b[0;34m(\u001b[0m\u001b[0msrc\u001b[0m\u001b[0;34m,\u001b[0m \u001b[0;34m**\u001b[0m\u001b[0mkwds\u001b[0m\u001b[0;34m)\u001b[0m\u001b[0;34m\u001b[0m\u001b[0;34m\u001b[0m\u001b[0m\n\u001b[0m\u001b[1;32m   1892\u001b[0m         \u001b[0mself\u001b[0m\u001b[0;34m.\u001b[0m\u001b[0munnamed_cols\u001b[0m \u001b[0;34m=\u001b[0m \u001b[0mself\u001b[0m\u001b[0;34m.\u001b[0m\u001b[0m_reader\u001b[0m\u001b[0;34m.\u001b[0m\u001b[0munnamed_cols\u001b[0m\u001b[0;34m\u001b[0m\u001b[0;34m\u001b[0m\u001b[0m\n\u001b[1;32m   1893\u001b[0m \u001b[0;34m\u001b[0m\u001b[0m\n",
      "\u001b[0;32mpandas/_libs/parsers.pyx\u001b[0m in \u001b[0;36mpandas._libs.parsers.TextReader.__cinit__\u001b[0;34m()\u001b[0m\n",
      "\u001b[0;32mpandas/_libs/parsers.pyx\u001b[0m in \u001b[0;36mpandas._libs.parsers.TextReader._setup_parser_source\u001b[0;34m()\u001b[0m\n",
      "\u001b[0;31mFileNotFoundError\u001b[0m: [Errno 2] File 4_movie_keywords does not exist: '4_movie_keywords'"
     ]
    }
   ],
   "source": [
    "\n"
   ]
  }
 ],
 "metadata": {
  "kernelspec": {
   "display_name": "Python 3",
   "language": "python",
   "name": "python3"
  },
  "language_info": {
   "codemirror_mode": {
    "name": "ipython",
    "version": 3
   },
   "file_extension": ".py",
   "mimetype": "text/x-python",
   "name": "python",
   "nbconvert_exporter": "python",
   "pygments_lexer": "ipython3",
   "version": "3.7.6"
  }
 },
 "nbformat": 4,
 "nbformat_minor": 4
}
